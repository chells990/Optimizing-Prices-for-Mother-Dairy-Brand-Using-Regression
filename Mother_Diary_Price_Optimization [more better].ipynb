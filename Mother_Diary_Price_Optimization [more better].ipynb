{
  "nbformat": 4,
  "nbformat_minor": 0,
  "metadata": {
    "colab": {
      "provenance": [],
      "collapsed_sections": [
        "2Ei0ko6oFZ85"
      ]
    },
    "kernelspec": {
      "name": "python3",
      "display_name": "Python 3"
    },
    "language_info": {
      "name": "python"
    }
  },
  "cells": [
    {
      "cell_type": "code",
      "source": [
        "import pandas as pd\n",
        "import numpy as np"
      ],
      "metadata": {
        "id": "Y6GxueRRqW_M"
      },
      "execution_count": 1,
      "outputs": []
    },
    {
      "cell_type": "markdown",
      "source": [
        "Load dataset"
      ],
      "metadata": {
        "id": "6Ndbbw8htlu3"
      }
    },
    {
      "cell_type": "code",
      "source": [
        "df = pd.read_csv('dairy_dataset.csv')"
      ],
      "metadata": {
        "id": "GwcHvrsLLN7v"
      },
      "execution_count": 2,
      "outputs": []
    },
    {
      "cell_type": "markdown",
      "source": [
        "# Data Understanding and Problem Definition"
      ],
      "metadata": {
        "id": "cOwMnrEnvzS6"
      }
    },
    {
      "cell_type": "code",
      "source": [
        "df.head()"
      ],
      "metadata": {
        "colab": {
          "base_uri": "https://localhost:8080/",
          "height": 394
        },
        "id": "njuCWprRLTF8",
        "outputId": "552792fc-251d-47f1-a30b-9979d2fa52d9"
      },
      "execution_count": 3,
      "outputs": [
        {
          "output_type": "execute_result",
          "data": {
            "text/plain": [
              "        Location  Total Land Area (acres)  Number of Cows Farm Size  \\\n",
              "0      Telangana                   310.84              96    Medium   \n",
              "1  Uttar Pradesh                    19.19              44     Large   \n",
              "2     Tamil Nadu                   581.69              24    Medium   \n",
              "3      Telangana                   908.00              89     Small   \n",
              "4    Maharashtra                   861.95              21    Medium   \n",
              "\n",
              "         Date  Product ID Product Name                 Brand  \\\n",
              "0  2022-02-17           5    Ice Cream           Dodla Dairy   \n",
              "1  2021-12-01           1         Milk                  Amul   \n",
              "2  2022-02-28           4       Yogurt           Dodla Dairy   \n",
              "3  2019-06-09           3       Cheese  Britannia Industries   \n",
              "4  2020-12-14           8   Buttermilk          Mother Dairy   \n",
              "\n",
              "   Quantity (liters/kg)  Price per Unit  ...  Production Date  \\\n",
              "0                222.40           85.72  ...       2021-12-27   \n",
              "1                687.48           42.61  ...       2021-10-03   \n",
              "2                503.48           36.50  ...       2022-01-14   \n",
              "3                823.36           26.52  ...       2019-05-15   \n",
              "4                147.77           83.85  ...       2020-10-17   \n",
              "\n",
              "   Expiration Date Quantity Sold (liters/kg) Price per Unit (sold)  \\\n",
              "0       2022-01-21                         7                 82.24   \n",
              "1       2021-10-25                       558                 39.24   \n",
              "2       2022-02-13                       256                 33.81   \n",
              "3       2019-07-26                       601                 28.92   \n",
              "4       2020-10-28                       145                 83.07   \n",
              "\n",
              "  Approx. Total Revenue(INR)  Customer Location  Sales Channel  \\\n",
              "0                     575.68     Madhya Pradesh      Wholesale   \n",
              "1                   21895.92             Kerala      Wholesale   \n",
              "2                    8655.36     Madhya Pradesh         Online   \n",
              "3                   17380.92          Rajasthan         Online   \n",
              "4                   12045.15          Jharkhand         Retail   \n",
              "\n",
              "   Quantity in Stock (liters/kg) Minimum Stock Threshold (liters/kg)  \\\n",
              "0                            215                               19.55   \n",
              "1                            129                               43.17   \n",
              "2                            247                               15.10   \n",
              "3                            222                               74.50   \n",
              "4                              2                               76.02   \n",
              "\n",
              "  Reorder Quantity (liters/kg)  \n",
              "0                        64.03  \n",
              "1                       181.10  \n",
              "2                       140.83  \n",
              "3                        57.68  \n",
              "4                        33.40  \n",
              "\n",
              "[5 rows x 23 columns]"
            ],
            "text/html": [
              "\n",
              "  <div id=\"df-7b5d95ea-d553-43d7-b5dd-515d1f3a6d2c\" class=\"colab-df-container\">\n",
              "    <div>\n",
              "<style scoped>\n",
              "    .dataframe tbody tr th:only-of-type {\n",
              "        vertical-align: middle;\n",
              "    }\n",
              "\n",
              "    .dataframe tbody tr th {\n",
              "        vertical-align: top;\n",
              "    }\n",
              "\n",
              "    .dataframe thead th {\n",
              "        text-align: right;\n",
              "    }\n",
              "</style>\n",
              "<table border=\"1\" class=\"dataframe\">\n",
              "  <thead>\n",
              "    <tr style=\"text-align: right;\">\n",
              "      <th></th>\n",
              "      <th>Location</th>\n",
              "      <th>Total Land Area (acres)</th>\n",
              "      <th>Number of Cows</th>\n",
              "      <th>Farm Size</th>\n",
              "      <th>Date</th>\n",
              "      <th>Product ID</th>\n",
              "      <th>Product Name</th>\n",
              "      <th>Brand</th>\n",
              "      <th>Quantity (liters/kg)</th>\n",
              "      <th>Price per Unit</th>\n",
              "      <th>...</th>\n",
              "      <th>Production Date</th>\n",
              "      <th>Expiration Date</th>\n",
              "      <th>Quantity Sold (liters/kg)</th>\n",
              "      <th>Price per Unit (sold)</th>\n",
              "      <th>Approx. Total Revenue(INR)</th>\n",
              "      <th>Customer Location</th>\n",
              "      <th>Sales Channel</th>\n",
              "      <th>Quantity in Stock (liters/kg)</th>\n",
              "      <th>Minimum Stock Threshold (liters/kg)</th>\n",
              "      <th>Reorder Quantity (liters/kg)</th>\n",
              "    </tr>\n",
              "  </thead>\n",
              "  <tbody>\n",
              "    <tr>\n",
              "      <th>0</th>\n",
              "      <td>Telangana</td>\n",
              "      <td>310.84</td>\n",
              "      <td>96</td>\n",
              "      <td>Medium</td>\n",
              "      <td>2022-02-17</td>\n",
              "      <td>5</td>\n",
              "      <td>Ice Cream</td>\n",
              "      <td>Dodla Dairy</td>\n",
              "      <td>222.40</td>\n",
              "      <td>85.72</td>\n",
              "      <td>...</td>\n",
              "      <td>2021-12-27</td>\n",
              "      <td>2022-01-21</td>\n",
              "      <td>7</td>\n",
              "      <td>82.24</td>\n",
              "      <td>575.68</td>\n",
              "      <td>Madhya Pradesh</td>\n",
              "      <td>Wholesale</td>\n",
              "      <td>215</td>\n",
              "      <td>19.55</td>\n",
              "      <td>64.03</td>\n",
              "    </tr>\n",
              "    <tr>\n",
              "      <th>1</th>\n",
              "      <td>Uttar Pradesh</td>\n",
              "      <td>19.19</td>\n",
              "      <td>44</td>\n",
              "      <td>Large</td>\n",
              "      <td>2021-12-01</td>\n",
              "      <td>1</td>\n",
              "      <td>Milk</td>\n",
              "      <td>Amul</td>\n",
              "      <td>687.48</td>\n",
              "      <td>42.61</td>\n",
              "      <td>...</td>\n",
              "      <td>2021-10-03</td>\n",
              "      <td>2021-10-25</td>\n",
              "      <td>558</td>\n",
              "      <td>39.24</td>\n",
              "      <td>21895.92</td>\n",
              "      <td>Kerala</td>\n",
              "      <td>Wholesale</td>\n",
              "      <td>129</td>\n",
              "      <td>43.17</td>\n",
              "      <td>181.10</td>\n",
              "    </tr>\n",
              "    <tr>\n",
              "      <th>2</th>\n",
              "      <td>Tamil Nadu</td>\n",
              "      <td>581.69</td>\n",
              "      <td>24</td>\n",
              "      <td>Medium</td>\n",
              "      <td>2022-02-28</td>\n",
              "      <td>4</td>\n",
              "      <td>Yogurt</td>\n",
              "      <td>Dodla Dairy</td>\n",
              "      <td>503.48</td>\n",
              "      <td>36.50</td>\n",
              "      <td>...</td>\n",
              "      <td>2022-01-14</td>\n",
              "      <td>2022-02-13</td>\n",
              "      <td>256</td>\n",
              "      <td>33.81</td>\n",
              "      <td>8655.36</td>\n",
              "      <td>Madhya Pradesh</td>\n",
              "      <td>Online</td>\n",
              "      <td>247</td>\n",
              "      <td>15.10</td>\n",
              "      <td>140.83</td>\n",
              "    </tr>\n",
              "    <tr>\n",
              "      <th>3</th>\n",
              "      <td>Telangana</td>\n",
              "      <td>908.00</td>\n",
              "      <td>89</td>\n",
              "      <td>Small</td>\n",
              "      <td>2019-06-09</td>\n",
              "      <td>3</td>\n",
              "      <td>Cheese</td>\n",
              "      <td>Britannia Industries</td>\n",
              "      <td>823.36</td>\n",
              "      <td>26.52</td>\n",
              "      <td>...</td>\n",
              "      <td>2019-05-15</td>\n",
              "      <td>2019-07-26</td>\n",
              "      <td>601</td>\n",
              "      <td>28.92</td>\n",
              "      <td>17380.92</td>\n",
              "      <td>Rajasthan</td>\n",
              "      <td>Online</td>\n",
              "      <td>222</td>\n",
              "      <td>74.50</td>\n",
              "      <td>57.68</td>\n",
              "    </tr>\n",
              "    <tr>\n",
              "      <th>4</th>\n",
              "      <td>Maharashtra</td>\n",
              "      <td>861.95</td>\n",
              "      <td>21</td>\n",
              "      <td>Medium</td>\n",
              "      <td>2020-12-14</td>\n",
              "      <td>8</td>\n",
              "      <td>Buttermilk</td>\n",
              "      <td>Mother Dairy</td>\n",
              "      <td>147.77</td>\n",
              "      <td>83.85</td>\n",
              "      <td>...</td>\n",
              "      <td>2020-10-17</td>\n",
              "      <td>2020-10-28</td>\n",
              "      <td>145</td>\n",
              "      <td>83.07</td>\n",
              "      <td>12045.15</td>\n",
              "      <td>Jharkhand</td>\n",
              "      <td>Retail</td>\n",
              "      <td>2</td>\n",
              "      <td>76.02</td>\n",
              "      <td>33.40</td>\n",
              "    </tr>\n",
              "  </tbody>\n",
              "</table>\n",
              "<p>5 rows × 23 columns</p>\n",
              "</div>\n",
              "    <div class=\"colab-df-buttons\">\n",
              "\n",
              "  <div class=\"colab-df-container\">\n",
              "    <button class=\"colab-df-convert\" onclick=\"convertToInteractive('df-7b5d95ea-d553-43d7-b5dd-515d1f3a6d2c')\"\n",
              "            title=\"Convert this dataframe to an interactive table.\"\n",
              "            style=\"display:none;\">\n",
              "\n",
              "  <svg xmlns=\"http://www.w3.org/2000/svg\" height=\"24px\" viewBox=\"0 -960 960 960\">\n",
              "    <path d=\"M120-120v-720h720v720H120Zm60-500h600v-160H180v160Zm220 220h160v-160H400v160Zm0 220h160v-160H400v160ZM180-400h160v-160H180v160Zm440 0h160v-160H620v160ZM180-180h160v-160H180v160Zm440 0h160v-160H620v160Z\"/>\n",
              "  </svg>\n",
              "    </button>\n",
              "\n",
              "  <style>\n",
              "    .colab-df-container {\n",
              "      display:flex;\n",
              "      gap: 12px;\n",
              "    }\n",
              "\n",
              "    .colab-df-convert {\n",
              "      background-color: #E8F0FE;\n",
              "      border: none;\n",
              "      border-radius: 50%;\n",
              "      cursor: pointer;\n",
              "      display: none;\n",
              "      fill: #1967D2;\n",
              "      height: 32px;\n",
              "      padding: 0 0 0 0;\n",
              "      width: 32px;\n",
              "    }\n",
              "\n",
              "    .colab-df-convert:hover {\n",
              "      background-color: #E2EBFA;\n",
              "      box-shadow: 0px 1px 2px rgba(60, 64, 67, 0.3), 0px 1px 3px 1px rgba(60, 64, 67, 0.15);\n",
              "      fill: #174EA6;\n",
              "    }\n",
              "\n",
              "    .colab-df-buttons div {\n",
              "      margin-bottom: 4px;\n",
              "    }\n",
              "\n",
              "    [theme=dark] .colab-df-convert {\n",
              "      background-color: #3B4455;\n",
              "      fill: #D2E3FC;\n",
              "    }\n",
              "\n",
              "    [theme=dark] .colab-df-convert:hover {\n",
              "      background-color: #434B5C;\n",
              "      box-shadow: 0px 1px 3px 1px rgba(0, 0, 0, 0.15);\n",
              "      filter: drop-shadow(0px 1px 2px rgba(0, 0, 0, 0.3));\n",
              "      fill: #FFFFFF;\n",
              "    }\n",
              "  </style>\n",
              "\n",
              "    <script>\n",
              "      const buttonEl =\n",
              "        document.querySelector('#df-7b5d95ea-d553-43d7-b5dd-515d1f3a6d2c button.colab-df-convert');\n",
              "      buttonEl.style.display =\n",
              "        google.colab.kernel.accessAllowed ? 'block' : 'none';\n",
              "\n",
              "      async function convertToInteractive(key) {\n",
              "        const element = document.querySelector('#df-7b5d95ea-d553-43d7-b5dd-515d1f3a6d2c');\n",
              "        const dataTable =\n",
              "          await google.colab.kernel.invokeFunction('convertToInteractive',\n",
              "                                                    [key], {});\n",
              "        if (!dataTable) return;\n",
              "\n",
              "        const docLinkHtml = 'Like what you see? Visit the ' +\n",
              "          '<a target=\"_blank\" href=https://colab.research.google.com/notebooks/data_table.ipynb>data table notebook</a>'\n",
              "          + ' to learn more about interactive tables.';\n",
              "        element.innerHTML = '';\n",
              "        dataTable['output_type'] = 'display_data';\n",
              "        await google.colab.output.renderOutput(dataTable, element);\n",
              "        const docLink = document.createElement('div');\n",
              "        docLink.innerHTML = docLinkHtml;\n",
              "        element.appendChild(docLink);\n",
              "      }\n",
              "    </script>\n",
              "  </div>\n",
              "\n",
              "\n",
              "<div id=\"df-716411cd-b5a4-4e3d-bcb7-92d7b824720e\">\n",
              "  <button class=\"colab-df-quickchart\" onclick=\"quickchart('df-716411cd-b5a4-4e3d-bcb7-92d7b824720e')\"\n",
              "            title=\"Suggest charts\"\n",
              "            style=\"display:none;\">\n",
              "\n",
              "<svg xmlns=\"http://www.w3.org/2000/svg\" height=\"24px\"viewBox=\"0 0 24 24\"\n",
              "     width=\"24px\">\n",
              "    <g>\n",
              "        <path d=\"M19 3H5c-1.1 0-2 .9-2 2v14c0 1.1.9 2 2 2h14c1.1 0 2-.9 2-2V5c0-1.1-.9-2-2-2zM9 17H7v-7h2v7zm4 0h-2V7h2v10zm4 0h-2v-4h2v4z\"/>\n",
              "    </g>\n",
              "</svg>\n",
              "  </button>\n",
              "\n",
              "<style>\n",
              "  .colab-df-quickchart {\n",
              "      --bg-color: #E8F0FE;\n",
              "      --fill-color: #1967D2;\n",
              "      --hover-bg-color: #E2EBFA;\n",
              "      --hover-fill-color: #174EA6;\n",
              "      --disabled-fill-color: #AAA;\n",
              "      --disabled-bg-color: #DDD;\n",
              "  }\n",
              "\n",
              "  [theme=dark] .colab-df-quickchart {\n",
              "      --bg-color: #3B4455;\n",
              "      --fill-color: #D2E3FC;\n",
              "      --hover-bg-color: #434B5C;\n",
              "      --hover-fill-color: #FFFFFF;\n",
              "      --disabled-bg-color: #3B4455;\n",
              "      --disabled-fill-color: #666;\n",
              "  }\n",
              "\n",
              "  .colab-df-quickchart {\n",
              "    background-color: var(--bg-color);\n",
              "    border: none;\n",
              "    border-radius: 50%;\n",
              "    cursor: pointer;\n",
              "    display: none;\n",
              "    fill: var(--fill-color);\n",
              "    height: 32px;\n",
              "    padding: 0;\n",
              "    width: 32px;\n",
              "  }\n",
              "\n",
              "  .colab-df-quickchart:hover {\n",
              "    background-color: var(--hover-bg-color);\n",
              "    box-shadow: 0 1px 2px rgba(60, 64, 67, 0.3), 0 1px 3px 1px rgba(60, 64, 67, 0.15);\n",
              "    fill: var(--button-hover-fill-color);\n",
              "  }\n",
              "\n",
              "  .colab-df-quickchart-complete:disabled,\n",
              "  .colab-df-quickchart-complete:disabled:hover {\n",
              "    background-color: var(--disabled-bg-color);\n",
              "    fill: var(--disabled-fill-color);\n",
              "    box-shadow: none;\n",
              "  }\n",
              "\n",
              "  .colab-df-spinner {\n",
              "    border: 2px solid var(--fill-color);\n",
              "    border-color: transparent;\n",
              "    border-bottom-color: var(--fill-color);\n",
              "    animation:\n",
              "      spin 1s steps(1) infinite;\n",
              "  }\n",
              "\n",
              "  @keyframes spin {\n",
              "    0% {\n",
              "      border-color: transparent;\n",
              "      border-bottom-color: var(--fill-color);\n",
              "      border-left-color: var(--fill-color);\n",
              "    }\n",
              "    20% {\n",
              "      border-color: transparent;\n",
              "      border-left-color: var(--fill-color);\n",
              "      border-top-color: var(--fill-color);\n",
              "    }\n",
              "    30% {\n",
              "      border-color: transparent;\n",
              "      border-left-color: var(--fill-color);\n",
              "      border-top-color: var(--fill-color);\n",
              "      border-right-color: var(--fill-color);\n",
              "    }\n",
              "    40% {\n",
              "      border-color: transparent;\n",
              "      border-right-color: var(--fill-color);\n",
              "      border-top-color: var(--fill-color);\n",
              "    }\n",
              "    60% {\n",
              "      border-color: transparent;\n",
              "      border-right-color: var(--fill-color);\n",
              "    }\n",
              "    80% {\n",
              "      border-color: transparent;\n",
              "      border-right-color: var(--fill-color);\n",
              "      border-bottom-color: var(--fill-color);\n",
              "    }\n",
              "    90% {\n",
              "      border-color: transparent;\n",
              "      border-bottom-color: var(--fill-color);\n",
              "    }\n",
              "  }\n",
              "</style>\n",
              "\n",
              "  <script>\n",
              "    async function quickchart(key) {\n",
              "      const quickchartButtonEl =\n",
              "        document.querySelector('#' + key + ' button');\n",
              "      quickchartButtonEl.disabled = true;  // To prevent multiple clicks.\n",
              "      quickchartButtonEl.classList.add('colab-df-spinner');\n",
              "      try {\n",
              "        const charts = await google.colab.kernel.invokeFunction(\n",
              "            'suggestCharts', [key], {});\n",
              "      } catch (error) {\n",
              "        console.error('Error during call to suggestCharts:', error);\n",
              "      }\n",
              "      quickchartButtonEl.classList.remove('colab-df-spinner');\n",
              "      quickchartButtonEl.classList.add('colab-df-quickchart-complete');\n",
              "    }\n",
              "    (() => {\n",
              "      let quickchartButtonEl =\n",
              "        document.querySelector('#df-716411cd-b5a4-4e3d-bcb7-92d7b824720e button');\n",
              "      quickchartButtonEl.style.display =\n",
              "        google.colab.kernel.accessAllowed ? 'block' : 'none';\n",
              "    })();\n",
              "  </script>\n",
              "</div>\n",
              "    </div>\n",
              "  </div>\n"
            ]
          },
          "metadata": {},
          "execution_count": 3
        }
      ]
    },
    {
      "cell_type": "markdown",
      "source": [
        "About Dataset:\n",
        "\n",
        "\n",
        "The Dairy Goods Sales Dataset provides a detailed and comprehensive collection of data related to dairy farms, dairy products, sales, and inventory management. This dataset encompasses a wide range of information, including farm location, land area, cow population, farm size, production dates, product details, brand information, quantities, pricing, shelf life, storage conditions, expiration dates, sales information, customer locations, sales channels, stock quantities, stock thresholds, and reorder quantities.\n",
        "\n",
        "Features:\n",
        "- Location: The geographical location of the dairy farm.\n",
        "- Total Land Area (acres): The total land area occupied by the dairy farm.\n",
        "- Number of Cows: The number of cows present in the dairy farm.\n",
        "- Farm Size: The size of the dairy farm(in sq.km).\n",
        "- Date: The date of data recording.\n",
        "- Product ID: The unique identifier for each dairy product.\n",
        "- Product Name: The name of the dairy product.\n",
        "- Brand: The brand associated with the dairy product.\n",
        "- Quantity (liters/kg): The quantity of the dairy product available.\n",
        "- Price per Unit: The price per unit of the dairy product.\n",
        "- Total Value: The total value of the available quantity of the dairy product.\n",
        "- Shelf Life (days): The shelf life of the dairy product in days.\n",
        "- Storage Condition: The recommended storage condition for the dairy product.\n",
        "- Production Date: The date of production for the dairy product.\n",
        "- Expiration Date: The date of expiration for the dairy product.\n",
        "- Quantity Sold (liters/kg): The quantity of the dairy product sold.\n",
        "- Price per Unit (sold): The price per unit at which the dairy product was sold.\n",
        "- Approx. Total Revenue (INR): The approximate total revenue generated from the sale of the dairy product.\n",
        "- Customer Location: The location of the customer who purchased the dairy product.\n",
        "- Sales Channel: The channel through which the dairy product was sold (Retail, Wholesale, Online).\n",
        "- Quantity in Stock (liters/kg): The quantity of the dairy product remaining in stock.\n",
        "- Minimum Stock Threshold (liters/kg): The minimum stock threshold for the dairy product.\n",
        "- Reorder Quantity (liters/kg): The recommended quantity to reorder for the dairy product."
      ],
      "metadata": {
        "id": "H_-6aekWaup4"
      }
    },
    {
      "cell_type": "code",
      "source": [
        "df['Brand'].value_counts()"
      ],
      "metadata": {
        "colab": {
          "base_uri": "https://localhost:8080/"
        },
        "id": "kBeZJSmVLVrZ",
        "outputId": "01f72d97-cd63-4aba-ab17-6e56d8057231"
      },
      "execution_count": 4,
      "outputs": [
        {
          "output_type": "execute_result",
          "data": {
            "text/plain": [
              "Amul                    1053\n",
              "Mother Dairy            1010\n",
              "Raj                      685\n",
              "Sudha                    648\n",
              "Dodla Dairy              222\n",
              "Palle2patnam             211\n",
              "Dynamix Dairies          106\n",
              "Warana                   104\n",
              "Parag Milk Foods         102\n",
              "Passion Cheese            96\n",
              "Britannia Industries      88\n",
              "Name: Brand, dtype: int64"
            ]
          },
          "metadata": {},
          "execution_count": 4
        }
      ]
    },
    {
      "cell_type": "markdown",
      "source": [
        "**Problem!!**\n",
        "\n",
        "We're trying to predict the ‘Price per Unit (sold)’ of one brand, which could help determine the optimal price for maximizing revenue, profit, or another business objective.\n",
        "\n",
        "Price optimization involves using data analysis to determine how customers will respond to different prices for products and services. It’s often used to adjust prices in response to various factors like demand, inventory, and competition\n",
        "\n",
        "In this case, we're using features like ‘Quantity (liters/kg)’, and others to predict the ‘Price per Unit (sold)’. This model could potentially be used to optimize pricing decisions based on these factors."
      ],
      "metadata": {
        "id": "rC5La2MJuTex"
      }
    },
    {
      "cell_type": "code",
      "source": [
        "import matplotlib.pyplot as plt\n",
        "\n",
        "\n",
        "brand_market_share = df.groupby('Brand').agg({\n",
        "    'Approx. Total Revenue(INR)': 'sum'\n",
        "}).reset_index()\n",
        "\n",
        "# Specify custom colors\n",
        "colors = ['tab:blue', 'tab:orange', 'tab:green', 'tab:red', 'tab:purple', 'tab:red', 'tab:cyan', 'tab:pink', 'tab:olive', 'tab:brown', 'tab:gray']\n",
        "\n",
        "# Specify explode for the 1st slice (tab:blue)\n",
        "explode = (0.1, 0, 0, 0, 0.1, 0, 0, 0, 0.1, 0, 0)\n",
        "\n",
        "# Create a pie chart with explode, shadow, and custom colors\n",
        "plt.figure(figsize=(12, 8))\n",
        "plt.pie(brand_market_share['Approx. Total Revenue(INR)'],\n",
        "        labels=brand_market_share['Brand'],\n",
        "        autopct='%1.1f%%',\n",
        "        colors=colors,\n",
        "        explode=explode,\n",
        "        shadow=True,\n",
        "        startangle=140)  # Adjust start angle for a different perspective\n",
        "\n",
        "plt.title('Market Share of Dairy Brands')\n",
        "plt.show()\n"
      ],
      "metadata": {
        "colab": {
          "base_uri": "https://localhost:8080/",
          "height": 675
        },
        "id": "CPsTEs0iF49r",
        "outputId": "d3071db1-fe81-4767-fb32-c9274b949460"
      },
      "execution_count": 56,
      "outputs": [
        {
          "output_type": "display_data",
          "data": {
            "text/plain": [
              "<Figure size 1200x800 with 1 Axes>"
            ],
            "image/png": "[encoded data removed]"
          },
          "metadata": {}
        }
      ]
    },
    {
      "cell_type": "markdown",
      "source": [
        "The fact that 'Mother Dairy' is one of the top three dairy brands means it's a strong player in the dairy industry. By focusing on 'Mother Dairy,' we can come up with plans to keep its market position strong and even make it better, ensuring its continued success in the dairy market"
      ],
      "metadata": {
        "id": "7kx0QOjRG7mZ"
      }
    },
    {
      "cell_type": "markdown",
      "source": [
        "# Focus on 'Mother Diary' Brand (Outlier di section ini)"
      ],
      "metadata": {
        "id": "lPsy1I7tUauz"
      }
    },
    {
      "cell_type": "markdown",
      "source": [
        "Creates a new DataFrame (df_new2) that includes only the rows where the 'Brand' is 'Mother Dairy'"
      ],
      "metadata": {
        "id": "lnjn9GxUuZpn"
      }
    },
    {
      "cell_type": "code",
      "source": [
        "df_new2 = df.loc[df['Brand'] == 'Mother Dairy']"
      ],
      "metadata": {
        "id": "ogmbhtSBOLMl"
      },
      "execution_count": 6,
      "outputs": []
    },
    {
      "cell_type": "markdown",
      "source": [
        "Check the updated dataframe"
      ],
      "metadata": {
        "id": "1tzge_NvwBTG"
      }
    },
    {
      "cell_type": "code",
      "source": [
        "df_new2.head()"
      ],
      "metadata": {
        "colab": {
          "base_uri": "https://localhost:8080/",
          "height": 394
        },
        "id": "efmB8-aov_Ac",
        "outputId": "f658c235-0898-437b-f951-ca7360e408fb"
      },
      "execution_count": 7,
      "outputs": [
        {
          "output_type": "execute_result",
          "data": {
            "text/plain": [
              "       Location  Total Land Area (acres)  Number of Cows Farm Size  \\\n",
              "4   Maharashtra                   861.95              21    Medium   \n",
              "7         Bihar                    67.61              77    Medium   \n",
              "9     Telangana                   413.24              36     Large   \n",
              "13    Telangana                   856.00              39     Large   \n",
              "15       Kerala                    14.97              71     Small   \n",
              "\n",
              "          Date  Product ID Product Name         Brand  Quantity (liters/kg)  \\\n",
              "4   2020-12-14           8   Buttermilk  Mother Dairy                147.77   \n",
              "7   2019-02-14           9       Paneer  Mother Dairy                203.36   \n",
              "9   2022-03-04           8   Buttermilk  Mother Dairy                385.64   \n",
              "13  2019-12-26           5    Ice Cream  Mother Dairy                612.16   \n",
              "15  2020-02-22           1         Milk  Mother Dairy                821.52   \n",
              "\n",
              "    Price per Unit  ...  Production Date  Expiration Date  \\\n",
              "4            83.85  ...       2020-10-17       2020-10-28   \n",
              "7            29.08  ...       2019-01-06       2019-01-20   \n",
              "9            42.08  ...       2022-02-03       2022-02-12   \n",
              "13           94.43  ...       2019-12-15       2020-01-09   \n",
              "15           11.58  ...       2020-01-31       2020-02-01   \n",
              "\n",
              "   Quantity Sold (liters/kg) Price per Unit (sold) Approx. Total Revenue(INR)  \\\n",
              "4                        145                 83.07                   12045.15   \n",
              "7                         15                 29.09                     436.35   \n",
              "9                        108                 46.15                    4984.20   \n",
              "13                        80                 94.32                    7545.60   \n",
              "15                       778                  8.69                    6760.82   \n",
              "\n",
              "    Customer Location  Sales Channel  Quantity in Stock (liters/kg)  \\\n",
              "4           Jharkhand         Retail                              2   \n",
              "7             Haryana         Online                            188   \n",
              "9          Tamil Nadu         Retail                            277   \n",
              "13     Madhya Pradesh         Online                            532   \n",
              "15            Gujarat         Retail                             43   \n",
              "\n",
              "   Minimum Stock Threshold (liters/kg) Reorder Quantity (liters/kg)  \n",
              "4                                76.02                        33.40  \n",
              "7                                10.90                        25.14  \n",
              "9                                93.61                        66.26  \n",
              "13                               47.95                       198.99  \n",
              "15                               89.45                        28.11  \n",
              "\n",
              "[5 rows x 23 columns]"
            ],
            "text/html": [
              "\n",
              "  <div id=\"df-2b463aa8-1c15-42a8-b60f-312c8ba3bf05\" class=\"colab-df-container\">\n",
              "    <div>\n",
              "<style scoped>\n",
              "    .dataframe tbody tr th:only-of-type {\n",
              "        vertical-align: middle;\n",
              "    }\n",
              "\n",
              "    .dataframe tbody tr th {\n",
              "        vertical-align: top;\n",
              "    }\n",
              "\n",
              "    .dataframe thead th {\n",
              "        text-align: right;\n",
              "    }\n",
              "</style>\n",
              "<table border=\"1\" class=\"dataframe\">\n",
              "  <thead>\n",
              "    <tr style=\"text-align: right;\">\n",
              "      <th></th>\n",
              "      <th>Location</th>\n",
              "      <th>Total Land Area (acres)</th>\n",
              "      <th>Number of Cows</th>\n",
              "      <th>Farm Size</th>\n",
              "      <th>Date</th>\n",
              "      <th>Product ID</th>\n",
              "      <th>Product Name</th>\n",
              "      <th>Brand</th>\n",
              "      <th>Quantity (liters/kg)</th>\n",
              "      <th>Price per Unit</th>\n",
              "      <th>...</th>\n",
              "      <th>Production Date</th>\n",
              "      <th>Expiration Date</th>\n",
              "      <th>Quantity Sold (liters/kg)</th>\n",
              "      <th>Price per Unit (sold)</th>\n",
              "      <th>Approx. Total Revenue(INR)</th>\n",
              "      <th>Customer Location</th>\n",
              "      <th>Sales Channel</th>\n",
              "      <th>Quantity in Stock (liters/kg)</th>\n",
              "      <th>Minimum Stock Threshold (liters/kg)</th>\n",
              "      <th>Reorder Quantity (liters/kg)</th>\n",
              "    </tr>\n",
              "  </thead>\n",
              "  <tbody>\n",
              "    <tr>\n",
              "      <th>4</th>\n",
              "      <td>Maharashtra</td>\n",
              "      <td>861.95</td>\n",
              "      <td>21</td>\n",
              "      <td>Medium</td>\n",
              "      <td>2020-12-14</td>\n",
              "      <td>8</td>\n",
              "      <td>Buttermilk</td>\n",
              "      <td>Mother Dairy</td>\n",
              "      <td>147.77</td>\n",
              "      <td>83.85</td>\n",
              "      <td>...</td>\n",
              "      <td>2020-10-17</td>\n",
              "      <td>2020-10-28</td>\n",
              "      <td>145</td>\n",
              "      <td>83.07</td>\n",
              "      <td>12045.15</td>\n",
              "      <td>Jharkhand</td>\n",
              "      <td>Retail</td>\n",
              "      <td>2</td>\n",
              "      <td>76.02</td>\n",
              "      <td>33.40</td>\n",
              "    </tr>\n",
              "    <tr>\n",
              "      <th>7</th>\n",
              "      <td>Bihar</td>\n",
              "      <td>67.61</td>\n",
              "      <td>77</td>\n",
              "      <td>Medium</td>\n",
              "      <td>2019-02-14</td>\n",
              "      <td>9</td>\n",
              "      <td>Paneer</td>\n",
              "      <td>Mother Dairy</td>\n",
              "      <td>203.36</td>\n",
              "      <td>29.08</td>\n",
              "      <td>...</td>\n",
              "      <td>2019-01-06</td>\n",
              "      <td>2019-01-20</td>\n",
              "      <td>15</td>\n",
              "      <td>29.09</td>\n",
              "      <td>436.35</td>\n",
              "      <td>Haryana</td>\n",
              "      <td>Online</td>\n",
              "      <td>188</td>\n",
              "      <td>10.90</td>\n",
              "      <td>25.14</td>\n",
              "    </tr>\n",
              "    <tr>\n",
              "      <th>9</th>\n",
              "      <td>Telangana</td>\n",
              "      <td>413.24</td>\n",
              "      <td>36</td>\n",
              "      <td>Large</td>\n",
              "      <td>2022-03-04</td>\n",
              "      <td>8</td>\n",
              "      <td>Buttermilk</td>\n",
              "      <td>Mother Dairy</td>\n",
              "      <td>385.64</td>\n",
              "      <td>42.08</td>\n",
              "      <td>...</td>\n",
              "      <td>2022-02-03</td>\n",
              "      <td>2022-02-12</td>\n",
              "      <td>108</td>\n",
              "      <td>46.15</td>\n",
              "      <td>4984.20</td>\n",
              "      <td>Tamil Nadu</td>\n",
              "      <td>Retail</td>\n",
              "      <td>277</td>\n",
              "      <td>93.61</td>\n",
              "      <td>66.26</td>\n",
              "    </tr>\n",
              "    <tr>\n",
              "      <th>13</th>\n",
              "      <td>Telangana</td>\n",
              "      <td>856.00</td>\n",
              "      <td>39</td>\n",
              "      <td>Large</td>\n",
              "      <td>2019-12-26</td>\n",
              "      <td>5</td>\n",
              "      <td>Ice Cream</td>\n",
              "      <td>Mother Dairy</td>\n",
              "      <td>612.16</td>\n",
              "      <td>94.43</td>\n",
              "      <td>...</td>\n",
              "      <td>2019-12-15</td>\n",
              "      <td>2020-01-09</td>\n",
              "      <td>80</td>\n",
              "      <td>94.32</td>\n",
              "      <td>7545.60</td>\n",
              "      <td>Madhya Pradesh</td>\n",
              "      <td>Online</td>\n",
              "      <td>532</td>\n",
              "      <td>47.95</td>\n",
              "      <td>198.99</td>\n",
              "    </tr>\n",
              "    <tr>\n",
              "      <th>15</th>\n",
              "      <td>Kerala</td>\n",
              "      <td>14.97</td>\n",
              "      <td>71</td>\n",
              "      <td>Small</td>\n",
              "      <td>2020-02-22</td>\n",
              "      <td>1</td>\n",
              "      <td>Milk</td>\n",
              "      <td>Mother Dairy</td>\n",
              "      <td>821.52</td>\n",
              "      <td>11.58</td>\n",
              "      <td>...</td>\n",
              "      <td>2020-01-31</td>\n",
              "      <td>2020-02-01</td>\n",
              "      <td>778</td>\n",
              "      <td>8.69</td>\n",
              "      <td>6760.82</td>\n",
              "      <td>Gujarat</td>\n",
              "      <td>Retail</td>\n",
              "      <td>43</td>\n",
              "      <td>89.45</td>\n",
              "      <td>28.11</td>\n",
              "    </tr>\n",
              "  </tbody>\n",
              "</table>\n",
              "<p>5 rows × 23 columns</p>\n",
              "</div>\n",
              "    <div class=\"colab-df-buttons\">\n",
              "\n",
              "  <div class=\"colab-df-container\">\n",
              "    <button class=\"colab-df-convert\" onclick=\"convertToInteractive('df-2b463aa8-1c15-42a8-b60f-312c8ba3bf05')\"\n",
              "            title=\"Convert this dataframe to an interactive table.\"\n",
              "            style=\"display:none;\">\n",
              "\n",
              "  <svg xmlns=\"http://www.w3.org/2000/svg\" height=\"24px\" viewBox=\"0 -960 960 960\">\n",
              "    <path d=\"M120-120v-720h720v720H120Zm60-500h600v-160H180v160Zm220 220h160v-160H400v160Zm0 220h160v-160H400v160ZM180-400h160v-160H180v160Zm440 0h160v-160H620v160ZM180-180h160v-160H180v160Zm440 0h160v-160H620v160Z\"/>\n",
              "  </svg>\n",
              "    </button>\n",
              "\n",
              "  <style>\n",
              "    .colab-df-container {\n",
              "      display:flex;\n",
              "      gap: 12px;\n",
              "    }\n",
              "\n",
              "    .colab-df-convert {\n",
              "      background-color: #E8F0FE;\n",
              "      border: none;\n",
              "      border-radius: 50%;\n",
              "      cursor: pointer;\n",
              "      display: none;\n",
              "      fill: #1967D2;\n",
              "      height: 32px;\n",
              "      padding: 0 0 0 0;\n",
              "      width: 32px;\n",
              "    }\n",
              "\n",
              "    .colab-df-convert:hover {\n",
              "      background-color: #E2EBFA;\n",
              "      box-shadow: 0px 1px 2px rgba(60, 64, 67, 0.3), 0px 1px 3px 1px rgba(60, 64, 67, 0.15);\n",
              "      fill: #174EA6;\n",
              "    }\n",
              "\n",
              "    .colab-df-buttons div {\n",
              "      margin-bottom: 4px;\n",
              "    }\n",
              "\n",
              "    [theme=dark] .colab-df-convert {\n",
              "      background-color: #3B4455;\n",
              "      fill: #D2E3FC;\n",
              "    }\n",
              "\n",
              "    [theme=dark] .colab-df-convert:hover {\n",
              "      background-color: #434B5C;\n",
              "      box-shadow: 0px 1px 3px 1px rgba(0, 0, 0, 0.15);\n",
              "      filter: drop-shadow(0px 1px 2px rgba(0, 0, 0, 0.3));\n",
              "      fill: #FFFFFF;\n",
              "    }\n",
              "  </style>\n",
              "\n",
              "    <script>\n",
              "      const buttonEl =\n",
              "        document.querySelector('#df-2b463aa8-1c15-42a8-b60f-312c8ba3bf05 button.colab-df-convert');\n",
              "      buttonEl.style.display =\n",
              "        google.colab.kernel.accessAllowed ? 'block' : 'none';\n",
              "\n",
              "      async function convertToInteractive(key) {\n",
              "        const element = document.querySelector('#df-2b463aa8-1c15-42a8-b60f-312c8ba3bf05');\n",
              "        const dataTable =\n",
              "          await google.colab.kernel.invokeFunction('convertToInteractive',\n",
              "                                                    [key], {});\n",
              "        if (!dataTable) return;\n",
              "\n",
              "        const docLinkHtml = 'Like what you see? Visit the ' +\n",
              "          '<a target=\"_blank\" href=https://colab.research.google.com/notebooks/data_table.ipynb>data table notebook</a>'\n",
              "          + ' to learn more about interactive tables.';\n",
              "        element.innerHTML = '';\n",
              "        dataTable['output_type'] = 'display_data';\n",
              "        await google.colab.output.renderOutput(dataTable, element);\n",
              "        const docLink = document.createElement('div');\n",
              "        docLink.innerHTML = docLinkHtml;\n",
              "        element.appendChild(docLink);\n",
              "      }\n",
              "    </script>\n",
              "  </div>\n",
              "\n",
              "\n",
              "<div id=\"df-e00c292d-9fa6-47c4-aac4-3003b99800d3\">\n",
              "  <button class=\"colab-df-quickchart\" onclick=\"quickchart('df-e00c292d-9fa6-47c4-aac4-3003b99800d3')\"\n",
              "            title=\"Suggest charts\"\n",
              "            style=\"display:none;\">\n",
              "\n",
              "<svg xmlns=\"http://www.w3.org/2000/svg\" height=\"24px\"viewBox=\"0 0 24 24\"\n",
              "     width=\"24px\">\n",
              "    <g>\n",
              "        <path d=\"M19 3H5c-1.1 0-2 .9-2 2v14c0 1.1.9 2 2 2h14c1.1 0 2-.9 2-2V5c0-1.1-.9-2-2-2zM9 17H7v-7h2v7zm4 0h-2V7h2v10zm4 0h-2v-4h2v4z\"/>\n",
              "    </g>\n",
              "</svg>\n",
              "  </button>\n",
              "\n",
              "<style>\n",
              "  .colab-df-quickchart {\n",
              "      --bg-color: #E8F0FE;\n",
              "      --fill-color: #1967D2;\n",
              "      --hover-bg-color: #E2EBFA;\n",
              "      --hover-fill-color: #174EA6;\n",
              "      --disabled-fill-color: #AAA;\n",
              "      --disabled-bg-color: #DDD;\n",
              "  }\n",
              "\n",
              "  [theme=dark] .colab-df-quickchart {\n",
              "      --bg-color: #3B4455;\n",
              "      --fill-color: #D2E3FC;\n",
              "      --hover-bg-color: #434B5C;\n",
              "      --hover-fill-color: #FFFFFF;\n",
              "      --disabled-bg-color: #3B4455;\n",
              "      --disabled-fill-color: #666;\n",
              "  }\n",
              "\n",
              "  .colab-df-quickchart {\n",
              "    background-color: var(--bg-color);\n",
              "    border: none;\n",
              "    border-radius: 50%;\n",
              "    cursor: pointer;\n",
              "    display: none;\n",
              "    fill: var(--fill-color);\n",
              "    height: 32px;\n",
              "    padding: 0;\n",
              "    width: 32px;\n",
              "  }\n",
              "\n",
              "  .colab-df-quickchart:hover {\n",
              "    background-color: var(--hover-bg-color);\n",
              "    box-shadow: 0 1px 2px rgba(60, 64, 67, 0.3), 0 1px 3px 1px rgba(60, 64, 67, 0.15);\n",
              "    fill: var(--button-hover-fill-color);\n",
              "  }\n",
              "\n",
              "  .colab-df-quickchart-complete:disabled,\n",
              "  .colab-df-quickchart-complete:disabled:hover {\n",
              "    background-color: var(--disabled-bg-color);\n",
              "    fill: var(--disabled-fill-color);\n",
              "    box-shadow: none;\n",
              "  }\n",
              "\n",
              "  .colab-df-spinner {\n",
              "    border: 2px solid var(--fill-color);\n",
              "    border-color: transparent;\n",
              "    border-bottom-color: var(--fill-color);\n",
              "    animation:\n",
              "      spin 1s steps(1) infinite;\n",
              "  }\n",
              "\n",
              "  @keyframes spin {\n",
              "    0% {\n",
              "      border-color: transparent;\n",
              "      border-bottom-color: var(--fill-color);\n",
              "      border-left-color: var(--fill-color);\n",
              "    }\n",
              "    20% {\n",
              "      border-color: transparent;\n",
              "      border-left-color: var(--fill-color);\n",
              "      border-top-color: var(--fill-color);\n",
              "    }\n",
              "    30% {\n",
              "      border-color: transparent;\n",
              "      border-left-color: var(--fill-color);\n",
              "      border-top-color: var(--fill-color);\n",
              "      border-right-color: var(--fill-color);\n",
              "    }\n",
              "    40% {\n",
              "      border-color: transparent;\n",
              "      border-right-color: var(--fill-color);\n",
              "      border-top-color: var(--fill-color);\n",
              "    }\n",
              "    60% {\n",
              "      border-color: transparent;\n",
              "      border-right-color: var(--fill-color);\n",
              "    }\n",
              "    80% {\n",
              "      border-color: transparent;\n",
              "      border-right-color: var(--fill-color);\n",
              "      border-bottom-color: var(--fill-color);\n",
              "    }\n",
              "    90% {\n",
              "      border-color: transparent;\n",
              "      border-bottom-color: var(--fill-color);\n",
              "    }\n",
              "  }\n",
              "</style>\n",
              "\n",
              "  <script>\n",
              "    async function quickchart(key) {\n",
              "      const quickchartButtonEl =\n",
              "        document.querySelector('#' + key + ' button');\n",
              "      quickchartButtonEl.disabled = true;  // To prevent multiple clicks.\n",
              "      quickchartButtonEl.classList.add('colab-df-spinner');\n",
              "      try {\n",
              "        const charts = await google.colab.kernel.invokeFunction(\n",
              "            'suggestCharts', [key], {});\n",
              "      } catch (error) {\n",
              "        console.error('Error during call to suggestCharts:', error);\n",
              "      }\n",
              "      quickchartButtonEl.classList.remove('colab-df-spinner');\n",
              "      quickchartButtonEl.classList.add('colab-df-quickchart-complete');\n",
              "    }\n",
              "    (() => {\n",
              "      let quickchartButtonEl =\n",
              "        document.querySelector('#df-e00c292d-9fa6-47c4-aac4-3003b99800d3 button');\n",
              "      quickchartButtonEl.style.display =\n",
              "        google.colab.kernel.accessAllowed ? 'block' : 'none';\n",
              "    })();\n",
              "  </script>\n",
              "</div>\n",
              "    </div>\n",
              "  </div>\n"
            ]
          },
          "metadata": {},
          "execution_count": 7
        }
      ]
    },
    {
      "cell_type": "markdown",
      "source": [
        "Count the occurrences of each unique value in the 'Product Name' column within the DataFrame df_new2 and visualization."
      ],
      "metadata": {
        "id": "oYFuk901uctE"
      }
    },
    {
      "cell_type": "code",
      "source": [
        "df_new2['Product Name'].value_counts()"
      ],
      "metadata": {
        "colab": {
          "base_uri": "https://localhost:8080/"
        },
        "id": "qg4OU-IcOP4z",
        "outputId": "0ce2d075-1023-4c71-9f3a-e33f9076bf43"
      },
      "execution_count": null,
      "outputs": [
        {
          "output_type": "execute_result",
          "data": {
            "text/plain": [
              "Paneer        119\n",
              "Curd          119\n",
              "Buttermilk    118\n",
              "Milk          117\n",
              "Butter        117\n",
              "Ice Cream     112\n",
              "Lassi         107\n",
              "Ghee          104\n",
              "Yogurt         97\n",
              "Name: Product Name, dtype: int64"
            ]
          },
          "metadata": {},
          "execution_count": 193
        }
      ]
    },
    {
      "cell_type": "code",
      "source": [
        "# Bar plot Product Name\n",
        "plt.figure(figsize=(10, 6))\n",
        "\n",
        "top_products = df_new2['Product Name'].value_counts().nlargest(3)\n",
        "\n",
        "# Create a color map for the top 3 products\n",
        "colors = ['gold', 'lightcoral', 'lightblue']\n",
        "\n",
        "plt.figure(figsize=(12, 8))\n",
        "df_new2['Product Name'].value_counts().plot(kind='barh', color=[colors[i] if index in top_products.index else 'gray' for i, index in enumerate(df_new2['Product Name'].value_counts().index)])\n",
        "plt.title('Product Sales Transaction')\n",
        "plt.ylabel('Product Name')\n",
        "plt.xlabel('Count')\n",
        "plt.show()\n",
        "\n"
      ],
      "metadata": {
        "colab": {
          "base_uri": "https://localhost:8080/",
          "height": 736
        },
        "id": "8q004KoNKkEC",
        "outputId": "701fc633-4624-4cc8-ff8d-96c100904b7b"
      },
      "execution_count": 66,
      "outputs": [
        {
          "output_type": "display_data",
          "data": {
            "text/plain": [
              "<Figure size 1000x600 with 0 Axes>"
            ]
          },
          "metadata": {}
        },
        {
          "output_type": "display_data",
          "data": {
            "text/plain": [
              "<Figure size 1200x800 with 1 Axes>"
            ],
            "image/png": "[encoded data removed]"
          },
          "metadata": {}
        }
      ]
    },
    {
      "cell_type": "markdown",
      "source": [
        "Products with high sales are popular and in high demand among consumers. Products with low sales are less popular among consumers. There may be other factors influencing product sales, such as price, quality, and product availability."
      ],
      "metadata": {
        "id": "fuqrCCqULBOX"
      }
    },
    {
      "cell_type": "markdown",
      "source": [
        "Count the occurrences of each unique value in the 'Sales Channel' column within the DataFrame df_new2 and visualization."
      ],
      "metadata": {
        "id": "MJNzp0ltvnxz"
      }
    },
    {
      "cell_type": "code",
      "source": [
        "df_new2['Sales Channel'].value_counts()"
      ],
      "metadata": {
        "colab": {
          "base_uri": "https://localhost:8080/"
        },
        "id": "3T-OavgCvohU",
        "outputId": "132e6744-874b-4c58-8413-8b15f9cb3ba2"
      },
      "execution_count": null,
      "outputs": [
        {
          "output_type": "execute_result",
          "data": {
            "text/plain": [
              "Retail       338\n",
              "Online       336\n",
              "Wholesale    336\n",
              "Name: Sales Channel, dtype: int64"
            ]
          },
          "metadata": {},
          "execution_count": 195
        }
      ]
    },
    {
      "cell_type": "code",
      "source": [
        "\n",
        "# Get counts and labels\n",
        "counts = df_new2['Sales Channel'].value_counts()\n",
        "labels = counts.index\n",
        "\n",
        "# Create a pie chart with larger autopct labels\n",
        "plt.figure(figsize=(12, 8))\n",
        "plt.pie(counts, labels=labels, autopct=lambda p: '{:.1f}%'.format(p), startangle=90, wedgeprops=dict(width=0.8),\n",
        "        textprops={'fontsize': 13})  # Set fontsize for autopct labels\n",
        "plt.title('Product Sales Transaction Distribution')\n",
        "plt.axis('equal')  # Equal aspect ratio ensures that pie is drawn as a circle.\n",
        "plt.show()\n"
      ],
      "metadata": {
        "colab": {
          "base_uri": "https://localhost:8080/",
          "height": 684
        },
        "id": "DF9m4EkULG-J",
        "outputId": "c8fccb2c-f12c-4e96-a56e-49f238221ee7"
      },
      "execution_count": 25,
      "outputs": [
        {
          "output_type": "display_data",
          "data": {
            "text/plain": [
              "<Figure size 1200x800 with 1 Axes>"
            ],
            "image/png": "[encoded data removed]"
          },
          "metadata": {}
        }
      ]
    },
    {
      "cell_type": "markdown",
      "source": [
        "Gives an overview of how sales are distributed among the different channels. Retail had the highest number of sales, followed closely by both the online and wholesale channels, which had the same number of sales transactions."
      ],
      "metadata": {
        "id": "X_X8421wLPtJ"
      }
    },
    {
      "cell_type": "markdown",
      "source": [
        "Drop or remove a list of specified columns from the DataFrame df_new2, this can be useful cause we want to focus on a subset of columns in our DataFrame and exclude others that are not relevant for analysis or processing."
      ],
      "metadata": {
        "id": "5_I86PVcvZlr"
      }
    },
    {
      "cell_type": "code",
      "source": [
        "drop_columns = ['Total Land Area (acres)', 'Number of Cows', 'Brand',\n",
        "                'Reorder Quantity (liters/kg)', 'Shelf Life (days)', 'Minimum Stock Threshold (liters/kg)',\n",
        "                'Product Name', 'Quantity in Stock (liters/kg)','Location','Production Date','Expiration Date']\n",
        "\n",
        "# Production Date,Price per Unit, Expiration Date, Approx. Total Revenue(INR), Total Value\n",
        "df_new2.drop(columns=drop_columns, inplace=True)"
      ],
      "metadata": {
        "colab": {
          "base_uri": "https://localhost:8080/"
        },
        "id": "_lbdQdXRRKUf",
        "outputId": "99b427a5-0563-404b-abc2-9a432e4213f0"
      },
      "execution_count": null,
      "outputs": [
        {
          "output_type": "stream",
          "name": "stderr",
          "text": [
            "<ipython-input-6-a769b6cb9e58>:6: SettingWithCopyWarning: \n",
            "A value is trying to be set on a copy of a slice from a DataFrame\n",
            "\n",
            "See the caveats in the documentation: https://pandas.pydata.org/pandas-docs/stable/user_guide/indexing.html#returning-a-view-versus-a-copy\n",
            "  df_new2.drop(columns=drop_columns, inplace=True)\n"
          ]
        }
      ]
    },
    {
      "cell_type": "markdown",
      "source": [
        "Check the updated dataframe"
      ],
      "metadata": {
        "id": "LW_6rf6Pvftt"
      }
    },
    {
      "cell_type": "code",
      "source": [
        "df_new2.head()"
      ],
      "metadata": {
        "colab": {
          "base_uri": "https://localhost:8080/",
          "height": 365
        },
        "id": "id1Qj6zjRMZP",
        "outputId": "a2d3ec0a-11e6-407c-ee5e-18b52efd1078"
      },
      "execution_count": null,
      "outputs": [
        {
          "output_type": "execute_result",
          "data": {
            "text/plain": [
              "   Farm Size        Date  Product ID  Quantity (liters/kg)  Price per Unit  \\\n",
              "4     Medium  2020-12-14           8                147.77           83.85   \n",
              "7     Medium  2019-02-14           9                203.36           29.08   \n",
              "9      Large  2022-03-04           8                385.64           42.08   \n",
              "13     Large  2019-12-26           5                612.16           94.43   \n",
              "15     Small  2020-02-22           1                821.52           11.58   \n",
              "\n",
              "    Total Value Storage Condition  Quantity Sold (liters/kg)  \\\n",
              "4    12390.5145      Refrigerated                        145   \n",
              "7     5913.7088      Refrigerated                         15   \n",
              "9    16227.7312      Refrigerated                        108   \n",
              "13   57806.2688            Frozen                         80   \n",
              "15    9513.2016  Polythene Packet                        778   \n",
              "\n",
              "    Price per Unit (sold)  Approx. Total Revenue(INR) Customer Location  \\\n",
              "4                   83.07                    12045.15         Jharkhand   \n",
              "7                   29.09                      436.35           Haryana   \n",
              "9                   46.15                     4984.20        Tamil Nadu   \n",
              "13                  94.32                     7545.60    Madhya Pradesh   \n",
              "15                   8.69                     6760.82           Gujarat   \n",
              "\n",
              "   Sales Channel  \n",
              "4         Retail  \n",
              "7         Online  \n",
              "9         Retail  \n",
              "13        Online  \n",
              "15        Retail  "
            ],
            "text/html": [
              "\n",
              "  <div id=\"df-dc7a6401-544d-47d5-89d8-fef8b886c619\" class=\"colab-df-container\">\n",
              "    <div>\n",
              "<style scoped>\n",
              "    .dataframe tbody tr th:only-of-type {\n",
              "        vertical-align: middle;\n",
              "    }\n",
              "\n",
              "    .dataframe tbody tr th {\n",
              "        vertical-align: top;\n",
              "    }\n",
              "\n",
              "    .dataframe thead th {\n",
              "        text-align: right;\n",
              "    }\n",
              "</style>\n",
              "<table border=\"1\" class=\"dataframe\">\n",
              "  <thead>\n",
              "    <tr style=\"text-align: right;\">\n",
              "      <th></th>\n",
              "      <th>Farm Size</th>\n",
              "      <th>Date</th>\n",
              "      <th>Product ID</th>\n",
              "      <th>Quantity (liters/kg)</th>\n",
              "      <th>Price per Unit</th>\n",
              "      <th>Total Value</th>\n",
              "      <th>Storage Condition</th>\n",
              "      <th>Quantity Sold (liters/kg)</th>\n",
              "      <th>Price per Unit (sold)</th>\n",
              "      <th>Approx. Total Revenue(INR)</th>\n",
              "      <th>Customer Location</th>\n",
              "      <th>Sales Channel</th>\n",
              "    </tr>\n",
              "  </thead>\n",
              "  <tbody>\n",
              "    <tr>\n",
              "      <th>4</th>\n",
              "      <td>Medium</td>\n",
              "      <td>2020-12-14</td>\n",
              "      <td>8</td>\n",
              "      <td>147.77</td>\n",
              "      <td>83.85</td>\n",
              "      <td>12390.5145</td>\n",
              "      <td>Refrigerated</td>\n",
              "      <td>145</td>\n",
              "      <td>83.07</td>\n",
              "      <td>12045.15</td>\n",
              "      <td>Jharkhand</td>\n",
              "      <td>Retail</td>\n",
              "    </tr>\n",
              "    <tr>\n",
              "      <th>7</th>\n",
              "      <td>Medium</td>\n",
              "      <td>2019-02-14</td>\n",
              "      <td>9</td>\n",
              "      <td>203.36</td>\n",
              "      <td>29.08</td>\n",
              "      <td>5913.7088</td>\n",
              "      <td>Refrigerated</td>\n",
              "      <td>15</td>\n",
              "      <td>29.09</td>\n",
              "      <td>436.35</td>\n",
              "      <td>Haryana</td>\n",
              "      <td>Online</td>\n",
              "    </tr>\n",
              "    <tr>\n",
              "      <th>9</th>\n",
              "      <td>Large</td>\n",
              "      <td>2022-03-04</td>\n",
              "      <td>8</td>\n",
              "      <td>385.64</td>\n",
              "      <td>42.08</td>\n",
              "      <td>16227.7312</td>\n",
              "      <td>Refrigerated</td>\n",
              "      <td>108</td>\n",
              "      <td>46.15</td>\n",
              "      <td>4984.20</td>\n",
              "      <td>Tamil Nadu</td>\n",
              "      <td>Retail</td>\n",
              "    </tr>\n",
              "    <tr>\n",
              "      <th>13</th>\n",
              "      <td>Large</td>\n",
              "      <td>2019-12-26</td>\n",
              "      <td>5</td>\n",
              "      <td>612.16</td>\n",
              "      <td>94.43</td>\n",
              "      <td>57806.2688</td>\n",
              "      <td>Frozen</td>\n",
              "      <td>80</td>\n",
              "      <td>94.32</td>\n",
              "      <td>7545.60</td>\n",
              "      <td>Madhya Pradesh</td>\n",
              "      <td>Online</td>\n",
              "    </tr>\n",
              "    <tr>\n",
              "      <th>15</th>\n",
              "      <td>Small</td>\n",
              "      <td>2020-02-22</td>\n",
              "      <td>1</td>\n",
              "      <td>821.52</td>\n",
              "      <td>11.58</td>\n",
              "      <td>9513.2016</td>\n",
              "      <td>Polythene Packet</td>\n",
              "      <td>778</td>\n",
              "      <td>8.69</td>\n",
              "      <td>6760.82</td>\n",
              "      <td>Gujarat</td>\n",
              "      <td>Retail</td>\n",
              "    </tr>\n",
              "  </tbody>\n",
              "</table>\n",
              "</div>\n",
              "    <div class=\"colab-df-buttons\">\n",
              "\n",
              "  <div class=\"colab-df-container\">\n",
              "    <button class=\"colab-df-convert\" onclick=\"convertToInteractive('df-dc7a6401-544d-47d5-89d8-fef8b886c619')\"\n",
              "            title=\"Convert this dataframe to an interactive table.\"\n",
              "            style=\"display:none;\">\n",
              "\n",
              "  <svg xmlns=\"http://www.w3.org/2000/svg\" height=\"24px\" viewBox=\"0 -960 960 960\">\n",
              "    <path d=\"M120-120v-720h720v720H120Zm60-500h600v-160H180v160Zm220 220h160v-160H400v160Zm0 220h160v-160H400v160ZM180-400h160v-160H180v160Zm440 0h160v-160H620v160ZM180-180h160v-160H180v160Zm440 0h160v-160H620v160Z\"/>\n",
              "  </svg>\n",
              "    </button>\n",
              "\n",
              "  <style>\n",
              "    .colab-df-container {\n",
              "      display:flex;\n",
              "      gap: 12px;\n",
              "    }\n",
              "\n",
              "    .colab-df-convert {\n",
              "      background-color: #E8F0FE;\n",
              "      border: none;\n",
              "      border-radius: 50%;\n",
              "      cursor: pointer;\n",
              "      display: none;\n",
              "      fill: #1967D2;\n",
              "      height: 32px;\n",
              "      padding: 0 0 0 0;\n",
              "      width: 32px;\n",
              "    }\n",
              "\n",
              "    .colab-df-convert:hover {\n",
              "      background-color: #E2EBFA;\n",
              "      box-shadow: 0px 1px 2px rgba(60, 64, 67, 0.3), 0px 1px 3px 1px rgba(60, 64, 67, 0.15);\n",
              "      fill: #174EA6;\n",
              "    }\n",
              "\n",
              "    .colab-df-buttons div {\n",
              "      margin-bottom: 4px;\n",
              "    }\n",
              "\n",
              "    [theme=dark] .colab-df-convert {\n",
              "      background-color: #3B4455;\n",
              "      fill: #D2E3FC;\n",
              "    }\n",
              "\n",
              "    [theme=dark] .colab-df-convert:hover {\n",
              "      background-color: #434B5C;\n",
              "      box-shadow: 0px 1px 3px 1px rgba(0, 0, 0, 0.15);\n",
              "      filter: drop-shadow(0px 1px 2px rgba(0, 0, 0, 0.3));\n",
              "      fill: #FFFFFF;\n",
              "    }\n",
              "  </style>\n",
              "\n",
              "    <script>\n",
              "      const buttonEl =\n",
              "        document.querySelector('#df-dc7a6401-544d-47d5-89d8-fef8b886c619 button.colab-df-convert');\n",
              "      buttonEl.style.display =\n",
              "        google.colab.kernel.accessAllowed ? 'block' : 'none';\n",
              "\n",
              "      async function convertToInteractive(key) {\n",
              "        const element = document.querySelector('#df-dc7a6401-544d-47d5-89d8-fef8b886c619');\n",
              "        const dataTable =\n",
              "          await google.colab.kernel.invokeFunction('convertToInteractive',\n",
              "                                                    [key], {});\n",
              "        if (!dataTable) return;\n",
              "\n",
              "        const docLinkHtml = 'Like what you see? Visit the ' +\n",
              "          '<a target=\"_blank\" href=https://colab.research.google.com/notebooks/data_table.ipynb>data table notebook</a>'\n",
              "          + ' to learn more about interactive tables.';\n",
              "        element.innerHTML = '';\n",
              "        dataTable['output_type'] = 'display_data';\n",
              "        await google.colab.output.renderOutput(dataTable, element);\n",
              "        const docLink = document.createElement('div');\n",
              "        docLink.innerHTML = docLinkHtml;\n",
              "        element.appendChild(docLink);\n",
              "      }\n",
              "    </script>\n",
              "  </div>\n",
              "\n",
              "\n",
              "<div id=\"df-eb63868e-f722-4d58-92ef-f746a724cab2\">\n",
              "  <button class=\"colab-df-quickchart\" onclick=\"quickchart('df-eb63868e-f722-4d58-92ef-f746a724cab2')\"\n",
              "            title=\"Suggest charts.\"\n",
              "            style=\"display:none;\">\n",
              "\n",
              "<svg xmlns=\"http://www.w3.org/2000/svg\" height=\"24px\"viewBox=\"0 0 24 24\"\n",
              "     width=\"24px\">\n",
              "    <g>\n",
              "        <path d=\"M19 3H5c-1.1 0-2 .9-2 2v14c0 1.1.9 2 2 2h14c1.1 0 2-.9 2-2V5c0-1.1-.9-2-2-2zM9 17H7v-7h2v7zm4 0h-2V7h2v10zm4 0h-2v-4h2v4z\"/>\n",
              "    </g>\n",
              "</svg>\n",
              "  </button>\n",
              "\n",
              "<style>\n",
              "  .colab-df-quickchart {\n",
              "      --bg-color: #E8F0FE;\n",
              "      --fill-color: #1967D2;\n",
              "      --hover-bg-color: #E2EBFA;\n",
              "      --hover-fill-color: #174EA6;\n",
              "      --disabled-fill-color: #AAA;\n",
              "      --disabled-bg-color: #DDD;\n",
              "  }\n",
              "\n",
              "  [theme=dark] .colab-df-quickchart {\n",
              "      --bg-color: #3B4455;\n",
              "      --fill-color: #D2E3FC;\n",
              "      --hover-bg-color: #434B5C;\n",
              "      --hover-fill-color: #FFFFFF;\n",
              "      --disabled-bg-color: #3B4455;\n",
              "      --disabled-fill-color: #666;\n",
              "  }\n",
              "\n",
              "  .colab-df-quickchart {\n",
              "    background-color: var(--bg-color);\n",
              "    border: none;\n",
              "    border-radius: 50%;\n",
              "    cursor: pointer;\n",
              "    display: none;\n",
              "    fill: var(--fill-color);\n",
              "    height: 32px;\n",
              "    padding: 0;\n",
              "    width: 32px;\n",
              "  }\n",
              "\n",
              "  .colab-df-quickchart:hover {\n",
              "    background-color: var(--hover-bg-color);\n",
              "    box-shadow: 0 1px 2px rgba(60, 64, 67, 0.3), 0 1px 3px 1px rgba(60, 64, 67, 0.15);\n",
              "    fill: var(--button-hover-fill-color);\n",
              "  }\n",
              "\n",
              "  .colab-df-quickchart-complete:disabled,\n",
              "  .colab-df-quickchart-complete:disabled:hover {\n",
              "    background-color: var(--disabled-bg-color);\n",
              "    fill: var(--disabled-fill-color);\n",
              "    box-shadow: none;\n",
              "  }\n",
              "\n",
              "  .colab-df-spinner {\n",
              "    border: 2px solid var(--fill-color);\n",
              "    border-color: transparent;\n",
              "    border-bottom-color: var(--fill-color);\n",
              "    animation:\n",
              "      spin 1s steps(1) infinite;\n",
              "  }\n",
              "\n",
              "  @keyframes spin {\n",
              "    0% {\n",
              "      border-color: transparent;\n",
              "      border-bottom-color: var(--fill-color);\n",
              "      border-left-color: var(--fill-color);\n",
              "    }\n",
              "    20% {\n",
              "      border-color: transparent;\n",
              "      border-left-color: var(--fill-color);\n",
              "      border-top-color: var(--fill-color);\n",
              "    }\n",
              "    30% {\n",
              "      border-color: transparent;\n",
              "      border-left-color: var(--fill-color);\n",
              "      border-top-color: var(--fill-color);\n",
              "      border-right-color: var(--fill-color);\n",
              "    }\n",
              "    40% {\n",
              "      border-color: transparent;\n",
              "      border-right-color: var(--fill-color);\n",
              "      border-top-color: var(--fill-color);\n",
              "    }\n",
              "    60% {\n",
              "      border-color: transparent;\n",
              "      border-right-color: var(--fill-color);\n",
              "    }\n",
              "    80% {\n",
              "      border-color: transparent;\n",
              "      border-right-color: var(--fill-color);\n",
              "      border-bottom-color: var(--fill-color);\n",
              "    }\n",
              "    90% {\n",
              "      border-color: transparent;\n",
              "      border-bottom-color: var(--fill-color);\n",
              "    }\n",
              "  }\n",
              "</style>\n",
              "\n",
              "  <script>\n",
              "    async function quickchart(key) {\n",
              "      const quickchartButtonEl =\n",
              "        document.querySelector('#' + key + ' button');\n",
              "      quickchartButtonEl.disabled = true;  // To prevent multiple clicks.\n",
              "      quickchartButtonEl.classList.add('colab-df-spinner');\n",
              "      try {\n",
              "        const charts = await google.colab.kernel.invokeFunction(\n",
              "            'suggestCharts', [key], {});\n",
              "      } catch (error) {\n",
              "        console.error('Error during call to suggestCharts:', error);\n",
              "      }\n",
              "      quickchartButtonEl.classList.remove('colab-df-spinner');\n",
              "      quickchartButtonEl.classList.add('colab-df-quickchart-complete');\n",
              "    }\n",
              "    (() => {\n",
              "      let quickchartButtonEl =\n",
              "        document.querySelector('#df-eb63868e-f722-4d58-92ef-f746a724cab2 button');\n",
              "      quickchartButtonEl.style.display =\n",
              "        google.colab.kernel.accessAllowed ? 'block' : 'none';\n",
              "    })();\n",
              "  </script>\n",
              "</div>\n",
              "    </div>\n",
              "  </div>\n"
            ]
          },
          "metadata": {},
          "execution_count": 7
        }
      ]
    },
    {
      "cell_type": "markdown",
      "source": [
        "Used to filter the DataFrame df_new2 to select rows where the 'Product ID' column has a value of 1 which is 'Milk'."
      ],
      "metadata": {
        "id": "NPFaNUKuwU_c"
      }
    },
    {
      "cell_type": "code",
      "source": [
        "df_new2[df_new2['Product ID'] == 1 ]"
      ],
      "metadata": {
        "colab": {
          "base_uri": "https://localhost:8080/",
          "height": 669
        },
        "id": "cupArL4EXOBK",
        "outputId": "9743032b-ede6-4d86-a54a-4cd08d621649"
      },
      "execution_count": null,
      "outputs": [
        {
          "output_type": "execute_result",
          "data": {
            "text/plain": [
              "     Farm Size        Date  Product ID  Quantity (liters/kg)  Price per Unit  \\\n",
              "15       Small  2020-02-22           1                821.52           11.58   \n",
              "65      Medium  2021-11-07           1                 62.79           95.03   \n",
              "111      Large  2019-01-26           1                 86.33           48.91   \n",
              "147      Large  2022-11-21           1                448.09           75.81   \n",
              "226      Large  2020-07-15           1                946.88           65.09   \n",
              "...        ...         ...         ...                   ...             ...   \n",
              "4217    Medium  2021-11-03           1                 97.27           92.40   \n",
              "4247    Medium  2021-03-08           1                605.55           66.47   \n",
              "4258     Large  2020-01-10           1                564.27           46.69   \n",
              "4299     Small  2020-04-08           1                101.64           51.16   \n",
              "4324     Large  2019-01-20           1                820.50           49.31   \n",
              "\n",
              "      Total Value Storage Condition  Quantity Sold (liters/kg)  \\\n",
              "15      9513.2016  Polythene Packet                        778   \n",
              "65      5966.9337        Tetra Pack                         16   \n",
              "111     4222.4003        Tetra Pack                         84   \n",
              "147    33969.7029  Polythene Packet                        329   \n",
              "226    61632.4192  Polythene Packet                        658   \n",
              "...           ...               ...                        ...   \n",
              "4217    8987.7480        Tetra Pack                          5   \n",
              "4247   40250.9085        Tetra Pack                        310   \n",
              "4258   26345.7663        Tetra Pack                        359   \n",
              "4299    5199.9024  Polythene Packet                         27   \n",
              "4324   40458.8550  Polythene Packet                        417   \n",
              "\n",
              "      Price per Unit (sold)  Approx. Total Revenue(INR) Customer Location  \\\n",
              "15                     8.69                     6760.82           Gujarat   \n",
              "65                    93.22                     1491.52             Bihar   \n",
              "111                   45.16                     3793.44         Rajasthan   \n",
              "147                   71.75                    23605.75           Haryana   \n",
              "226                   69.31                    45605.98             Bihar   \n",
              "...                     ...                         ...               ...   \n",
              "4217                  97.15                      485.75        Chandigarh   \n",
              "4247                  65.99                    20456.90         Rajasthan   \n",
              "4258                  42.55                    15275.45             Delhi   \n",
              "4299                  50.99                     1376.73        Chandigarh   \n",
              "4324                  44.55                    18577.35    Madhya Pradesh   \n",
              "\n",
              "     Sales Channel  \n",
              "15          Retail  \n",
              "65       Wholesale  \n",
              "111         Online  \n",
              "147      Wholesale  \n",
              "226      Wholesale  \n",
              "...            ...  \n",
              "4217     Wholesale  \n",
              "4247     Wholesale  \n",
              "4258        Online  \n",
              "4299        Online  \n",
              "4324        Online  \n",
              "\n",
              "[117 rows x 12 columns]"
            ],
            "text/html": [
              "\n",
              "  <div id=\"df-efd7820a-95bd-465b-b01b-2ad30b40e07e\" class=\"colab-df-container\">\n",
              "    <div>\n",
              "<style scoped>\n",
              "    .dataframe tbody tr th:only-of-type {\n",
              "        vertical-align: middle;\n",
              "    }\n",
              "\n",
              "    .dataframe tbody tr th {\n",
              "        vertical-align: top;\n",
              "    }\n",
              "\n",
              "    .dataframe thead th {\n",
              "        text-align: right;\n",
              "    }\n",
              "</style>\n",
              "<table border=\"1\" class=\"dataframe\">\n",
              "  <thead>\n",
              "    <tr style=\"text-align: right;\">\n",
              "      <th></th>\n",
              "      <th>Farm Size</th>\n",
              "      <th>Date</th>\n",
              "      <th>Product ID</th>\n",
              "      <th>Quantity (liters/kg)</th>\n",
              "      <th>Price per Unit</th>\n",
              "      <th>Total Value</th>\n",
              "      <th>Storage Condition</th>\n",
              "      <th>Quantity Sold (liters/kg)</th>\n",
              "      <th>Price per Unit (sold)</th>\n",
              "      <th>Approx. Total Revenue(INR)</th>\n",
              "      <th>Customer Location</th>\n",
              "      <th>Sales Channel</th>\n",
              "    </tr>\n",
              "  </thead>\n",
              "  <tbody>\n",
              "    <tr>\n",
              "      <th>15</th>\n",
              "      <td>Small</td>\n",
              "      <td>2020-02-22</td>\n",
              "      <td>1</td>\n",
              "      <td>821.52</td>\n",
              "      <td>11.58</td>\n",
              "      <td>9513.2016</td>\n",
              "      <td>Polythene Packet</td>\n",
              "      <td>778</td>\n",
              "      <td>8.69</td>\n",
              "      <td>6760.82</td>\n",
              "      <td>Gujarat</td>\n",
              "      <td>Retail</td>\n",
              "    </tr>\n",
              "    <tr>\n",
              "      <th>65</th>\n",
              "      <td>Medium</td>\n",
              "      <td>2021-11-07</td>\n",
              "      <td>1</td>\n",
              "      <td>62.79</td>\n",
              "      <td>95.03</td>\n",
              "      <td>5966.9337</td>\n",
              "      <td>Tetra Pack</td>\n",
              "      <td>16</td>\n",
              "      <td>93.22</td>\n",
              "      <td>1491.52</td>\n",
              "      <td>Bihar</td>\n",
              "      <td>Wholesale</td>\n",
              "    </tr>\n",
              "    <tr>\n",
              "      <th>111</th>\n",
              "      <td>Large</td>\n",
              "      <td>2019-01-26</td>\n",
              "      <td>1</td>\n",
              "      <td>86.33</td>\n",
              "      <td>48.91</td>\n",
              "      <td>4222.4003</td>\n",
              "      <td>Tetra Pack</td>\n",
              "      <td>84</td>\n",
              "      <td>45.16</td>\n",
              "      <td>3793.44</td>\n",
              "      <td>Rajasthan</td>\n",
              "      <td>Online</td>\n",
              "    </tr>\n",
              "    <tr>\n",
              "      <th>147</th>\n",
              "      <td>Large</td>\n",
              "      <td>2022-11-21</td>\n",
              "      <td>1</td>\n",
              "      <td>448.09</td>\n",
              "      <td>75.81</td>\n",
              "      <td>33969.7029</td>\n",
              "      <td>Polythene Packet</td>\n",
              "      <td>329</td>\n",
              "      <td>71.75</td>\n",
              "      <td>23605.75</td>\n",
              "      <td>Haryana</td>\n",
              "      <td>Wholesale</td>\n",
              "    </tr>\n",
              "    <tr>\n",
              "      <th>226</th>\n",
              "      <td>Large</td>\n",
              "      <td>2020-07-15</td>\n",
              "      <td>1</td>\n",
              "      <td>946.88</td>\n",
              "      <td>65.09</td>\n",
              "      <td>61632.4192</td>\n",
              "      <td>Polythene Packet</td>\n",
              "      <td>658</td>\n",
              "      <td>69.31</td>\n",
              "      <td>45605.98</td>\n",
              "      <td>Bihar</td>\n",
              "      <td>Wholesale</td>\n",
              "    </tr>\n",
              "    <tr>\n",
              "      <th>...</th>\n",
              "      <td>...</td>\n",
              "      <td>...</td>\n",
              "      <td>...</td>\n",
              "      <td>...</td>\n",
              "      <td>...</td>\n",
              "      <td>...</td>\n",
              "      <td>...</td>\n",
              "      <td>...</td>\n",
              "      <td>...</td>\n",
              "      <td>...</td>\n",
              "      <td>...</td>\n",
              "      <td>...</td>\n",
              "    </tr>\n",
              "    <tr>\n",
              "      <th>4217</th>\n",
              "      <td>Medium</td>\n",
              "      <td>2021-11-03</td>\n",
              "      <td>1</td>\n",
              "      <td>97.27</td>\n",
              "      <td>92.40</td>\n",
              "      <td>8987.7480</td>\n",
              "      <td>Tetra Pack</td>\n",
              "      <td>5</td>\n",
              "      <td>97.15</td>\n",
              "      <td>485.75</td>\n",
              "      <td>Chandigarh</td>\n",
              "      <td>Wholesale</td>\n",
              "    </tr>\n",
              "    <tr>\n",
              "      <th>4247</th>\n",
              "      <td>Medium</td>\n",
              "      <td>2021-03-08</td>\n",
              "      <td>1</td>\n",
              "      <td>605.55</td>\n",
              "      <td>66.47</td>\n",
              "      <td>40250.9085</td>\n",
              "      <td>Tetra Pack</td>\n",
              "      <td>310</td>\n",
              "      <td>65.99</td>\n",
              "      <td>20456.90</td>\n",
              "      <td>Rajasthan</td>\n",
              "      <td>Wholesale</td>\n",
              "    </tr>\n",
              "    <tr>\n",
              "      <th>4258</th>\n",
              "      <td>Large</td>\n",
              "      <td>2020-01-10</td>\n",
              "      <td>1</td>\n",
              "      <td>564.27</td>\n",
              "      <td>46.69</td>\n",
              "      <td>26345.7663</td>\n",
              "      <td>Tetra Pack</td>\n",
              "      <td>359</td>\n",
              "      <td>42.55</td>\n",
              "      <td>15275.45</td>\n",
              "      <td>Delhi</td>\n",
              "      <td>Online</td>\n",
              "    </tr>\n",
              "    <tr>\n",
              "      <th>4299</th>\n",
              "      <td>Small</td>\n",
              "      <td>2020-04-08</td>\n",
              "      <td>1</td>\n",
              "      <td>101.64</td>\n",
              "      <td>51.16</td>\n",
              "      <td>5199.9024</td>\n",
              "      <td>Polythene Packet</td>\n",
              "      <td>27</td>\n",
              "      <td>50.99</td>\n",
              "      <td>1376.73</td>\n",
              "      <td>Chandigarh</td>\n",
              "      <td>Online</td>\n",
              "    </tr>\n",
              "    <tr>\n",
              "      <th>4324</th>\n",
              "      <td>Large</td>\n",
              "      <td>2019-01-20</td>\n",
              "      <td>1</td>\n",
              "      <td>820.50</td>\n",
              "      <td>49.31</td>\n",
              "      <td>40458.8550</td>\n",
              "      <td>Polythene Packet</td>\n",
              "      <td>417</td>\n",
              "      <td>44.55</td>\n",
              "      <td>18577.35</td>\n",
              "      <td>Madhya Pradesh</td>\n",
              "      <td>Online</td>\n",
              "    </tr>\n",
              "  </tbody>\n",
              "</table>\n",
              "<p>117 rows × 12 columns</p>\n",
              "</div>\n",
              "    <div class=\"colab-df-buttons\">\n",
              "\n",
              "  <div class=\"colab-df-container\">\n",
              "    <button class=\"colab-df-convert\" onclick=\"convertToInteractive('df-efd7820a-95bd-465b-b01b-2ad30b40e07e')\"\n",
              "            title=\"Convert this dataframe to an interactive table.\"\n",
              "            style=\"display:none;\">\n",
              "\n",
              "  <svg xmlns=\"http://www.w3.org/2000/svg\" height=\"24px\" viewBox=\"0 -960 960 960\">\n",
              "    <path d=\"M120-120v-720h720v720H120Zm60-500h600v-160H180v160Zm220 220h160v-160H400v160Zm0 220h160v-160H400v160ZM180-400h160v-160H180v160Zm440 0h160v-160H620v160ZM180-180h160v-160H180v160Zm440 0h160v-160H620v160Z\"/>\n",
              "  </svg>\n",
              "    </button>\n",
              "\n",
              "  <style>\n",
              "    .colab-df-container {\n",
              "      display:flex;\n",
              "      gap: 12px;\n",
              "    }\n",
              "\n",
              "    .colab-df-convert {\n",
              "      background-color: #E8F0FE;\n",
              "      border: none;\n",
              "      border-radius: 50%;\n",
              "      cursor: pointer;\n",
              "      display: none;\n",
              "      fill: #1967D2;\n",
              "      height: 32px;\n",
              "      padding: 0 0 0 0;\n",
              "      width: 32px;\n",
              "    }\n",
              "\n",
              "    .colab-df-convert:hover {\n",
              "      background-color: #E2EBFA;\n",
              "      box-shadow: 0px 1px 2px rgba(60, 64, 67, 0.3), 0px 1px 3px 1px rgba(60, 64, 67, 0.15);\n",
              "      fill: #174EA6;\n",
              "    }\n",
              "\n",
              "    .colab-df-buttons div {\n",
              "      margin-bottom: 4px;\n",
              "    }\n",
              "\n",
              "    [theme=dark] .colab-df-convert {\n",
              "      background-color: #3B4455;\n",
              "      fill: #D2E3FC;\n",
              "    }\n",
              "\n",
              "    [theme=dark] .colab-df-convert:hover {\n",
              "      background-color: #434B5C;\n",
              "      box-shadow: 0px 1px 3px 1px rgba(0, 0, 0, 0.15);\n",
              "      filter: drop-shadow(0px 1px 2px rgba(0, 0, 0, 0.3));\n",
              "      fill: #FFFFFF;\n",
              "    }\n",
              "  </style>\n",
              "\n",
              "    <script>\n",
              "      const buttonEl =\n",
              "        document.querySelector('#df-efd7820a-95bd-465b-b01b-2ad30b40e07e button.colab-df-convert');\n",
              "      buttonEl.style.display =\n",
              "        google.colab.kernel.accessAllowed ? 'block' : 'none';\n",
              "\n",
              "      async function convertToInteractive(key) {\n",
              "        const element = document.querySelector('#df-efd7820a-95bd-465b-b01b-2ad30b40e07e');\n",
              "        const dataTable =\n",
              "          await google.colab.kernel.invokeFunction('convertToInteractive',\n",
              "                                                    [key], {});\n",
              "        if (!dataTable) return;\n",
              "\n",
              "        const docLinkHtml = 'Like what you see? Visit the ' +\n",
              "          '<a target=\"_blank\" href=https://colab.research.google.com/notebooks/data_table.ipynb>data table notebook</a>'\n",
              "          + ' to learn more about interactive tables.';\n",
              "        element.innerHTML = '';\n",
              "        dataTable['output_type'] = 'display_data';\n",
              "        await google.colab.output.renderOutput(dataTable, element);\n",
              "        const docLink = document.createElement('div');\n",
              "        docLink.innerHTML = docLinkHtml;\n",
              "        element.appendChild(docLink);\n",
              "      }\n",
              "    </script>\n",
              "  </div>\n",
              "\n",
              "\n",
              "<div id=\"df-6884d47e-1027-415c-86af-57a7e63e68d7\">\n",
              "  <button class=\"colab-df-quickchart\" onclick=\"quickchart('df-6884d47e-1027-415c-86af-57a7e63e68d7')\"\n",
              "            title=\"Suggest charts.\"\n",
              "            style=\"display:none;\">\n",
              "\n",
              "<svg xmlns=\"http://www.w3.org/2000/svg\" height=\"24px\"viewBox=\"0 0 24 24\"\n",
              "     width=\"24px\">\n",
              "    <g>\n",
              "        <path d=\"M19 3H5c-1.1 0-2 .9-2 2v14c0 1.1.9 2 2 2h14c1.1 0 2-.9 2-2V5c0-1.1-.9-2-2-2zM9 17H7v-7h2v7zm4 0h-2V7h2v10zm4 0h-2v-4h2v4z\"/>\n",
              "    </g>\n",
              "</svg>\n",
              "  </button>\n",
              "\n",
              "<style>\n",
              "  .colab-df-quickchart {\n",
              "      --bg-color: #E8F0FE;\n",
              "      --fill-color: #1967D2;\n",
              "      --hover-bg-color: #E2EBFA;\n",
              "      --hover-fill-color: #174EA6;\n",
              "      --disabled-fill-color: #AAA;\n",
              "      --disabled-bg-color: #DDD;\n",
              "  }\n",
              "\n",
              "  [theme=dark] .colab-df-quickchart {\n",
              "      --bg-color: #3B4455;\n",
              "      --fill-color: #D2E3FC;\n",
              "      --hover-bg-color: #434B5C;\n",
              "      --hover-fill-color: #FFFFFF;\n",
              "      --disabled-bg-color: #3B4455;\n",
              "      --disabled-fill-color: #666;\n",
              "  }\n",
              "\n",
              "  .colab-df-quickchart {\n",
              "    background-color: var(--bg-color);\n",
              "    border: none;\n",
              "    border-radius: 50%;\n",
              "    cursor: pointer;\n",
              "    display: none;\n",
              "    fill: var(--fill-color);\n",
              "    height: 32px;\n",
              "    padding: 0;\n",
              "    width: 32px;\n",
              "  }\n",
              "\n",
              "  .colab-df-quickchart:hover {\n",
              "    background-color: var(--hover-bg-color);\n",
              "    box-shadow: 0 1px 2px rgba(60, 64, 67, 0.3), 0 1px 3px 1px rgba(60, 64, 67, 0.15);\n",
              "    fill: var(--button-hover-fill-color);\n",
              "  }\n",
              "\n",
              "  .colab-df-quickchart-complete:disabled,\n",
              "  .colab-df-quickchart-complete:disabled:hover {\n",
              "    background-color: var(--disabled-bg-color);\n",
              "    fill: var(--disabled-fill-color);\n",
              "    box-shadow: none;\n",
              "  }\n",
              "\n",
              "  .colab-df-spinner {\n",
              "    border: 2px solid var(--fill-color);\n",
              "    border-color: transparent;\n",
              "    border-bottom-color: var(--fill-color);\n",
              "    animation:\n",
              "      spin 1s steps(1) infinite;\n",
              "  }\n",
              "\n",
              "  @keyframes spin {\n",
              "    0% {\n",
              "      border-color: transparent;\n",
              "      border-bottom-color: var(--fill-color);\n",
              "      border-left-color: var(--fill-color);\n",
              "    }\n",
              "    20% {\n",
              "      border-color: transparent;\n",
              "      border-left-color: var(--fill-color);\n",
              "      border-top-color: var(--fill-color);\n",
              "    }\n",
              "    30% {\n",
              "      border-color: transparent;\n",
              "      border-left-color: var(--fill-color);\n",
              "      border-top-color: var(--fill-color);\n",
              "      border-right-color: var(--fill-color);\n",
              "    }\n",
              "    40% {\n",
              "      border-color: transparent;\n",
              "      border-right-color: var(--fill-color);\n",
              "      border-top-color: var(--fill-color);\n",
              "    }\n",
              "    60% {\n",
              "      border-color: transparent;\n",
              "      border-right-color: var(--fill-color);\n",
              "    }\n",
              "    80% {\n",
              "      border-color: transparent;\n",
              "      border-right-color: var(--fill-color);\n",
              "      border-bottom-color: var(--fill-color);\n",
              "    }\n",
              "    90% {\n",
              "      border-color: transparent;\n",
              "      border-bottom-color: var(--fill-color);\n",
              "    }\n",
              "  }\n",
              "</style>\n",
              "\n",
              "  <script>\n",
              "    async function quickchart(key) {\n",
              "      const quickchartButtonEl =\n",
              "        document.querySelector('#' + key + ' button');\n",
              "      quickchartButtonEl.disabled = true;  // To prevent multiple clicks.\n",
              "      quickchartButtonEl.classList.add('colab-df-spinner');\n",
              "      try {\n",
              "        const charts = await google.colab.kernel.invokeFunction(\n",
              "            'suggestCharts', [key], {});\n",
              "      } catch (error) {\n",
              "        console.error('Error during call to suggestCharts:', error);\n",
              "      }\n",
              "      quickchartButtonEl.classList.remove('colab-df-spinner');\n",
              "      quickchartButtonEl.classList.add('colab-df-quickchart-complete');\n",
              "    }\n",
              "    (() => {\n",
              "      let quickchartButtonEl =\n",
              "        document.querySelector('#df-6884d47e-1027-415c-86af-57a7e63e68d7 button');\n",
              "      quickchartButtonEl.style.display =\n",
              "        google.colab.kernel.accessAllowed ? 'block' : 'none';\n",
              "    })();\n",
              "  </script>\n",
              "</div>\n",
              "    </div>\n",
              "  </div>\n"
            ]
          },
          "metadata": {},
          "execution_count": 8
        }
      ]
    },
    {
      "cell_type": "markdown",
      "source": [
        "Convert the 'Date' column in the DataFrame df_new2 into datetime format"
      ],
      "metadata": {
        "id": "AA4e3D3Cwjch"
      }
    },
    {
      "cell_type": "code",
      "source": [
        "df_new2['Date'] = pd.to_datetime(df_new2['Date'])"
      ],
      "metadata": {
        "colab": {
          "base_uri": "https://localhost:8080/"
        },
        "id": "pKVumj2BgygZ",
        "outputId": "c0856e08-ab4a-46ed-d49b-3025cd4f467b"
      },
      "execution_count": null,
      "outputs": [
        {
          "output_type": "stream",
          "name": "stderr",
          "text": [
            "<ipython-input-9-87d8bdf3d129>:1: SettingWithCopyWarning: \n",
            "A value is trying to be set on a copy of a slice from a DataFrame.\n",
            "Try using .loc[row_indexer,col_indexer] = value instead\n",
            "\n",
            "See the caveats in the documentation: https://pandas.pydata.org/pandas-docs/stable/user_guide/indexing.html#returning-a-view-versus-a-copy\n",
            "  df_new2['Date'] = pd.to_datetime(df_new2['Date'])\n"
          ]
        }
      ]
    },
    {
      "cell_type": "markdown",
      "source": [
        "**Prices (Target) outliers**"
      ],
      "metadata": {
        "id": "aIsweRtWNSCs"
      }
    },
    {
      "cell_type": "markdown",
      "source": [
        "Z-Score Method"
      ],
      "metadata": {
        "id": "jt7L7p7gdVEe"
      }
    },
    {
      "cell_type": "code",
      "source": [
        "mean_real = np.mean(df_new2['Price per Unit'])\n",
        "std_real = np.std(df_new2['Price per Unit'])\n",
        "\n",
        "mean_sold = np.mean(df_new2['Price per Unit (sold)'])\n",
        "std_sold = np.std(df_new2['Price per Unit (sold)'])"
      ],
      "metadata": {
        "id": "EhqO3puXdUR6"
      },
      "execution_count": null,
      "outputs": []
    },
    {
      "cell_type": "code",
      "source": [
        "#Z-Score Method\n",
        "def z_score(mean,std,data,treshold):\n",
        "  for i in data:\n",
        "      z = (i - mean) / std\n",
        "      if np.abs(z) > threshold:\n",
        "          print(i)"
      ],
      "metadata": {
        "id": "hl9nCV5pj4_T"
      },
      "execution_count": null,
      "outputs": []
    },
    {
      "cell_type": "code",
      "source": [
        "#Z-Score method for Price per unit\n",
        "threshold = 3\n",
        "print('List of outliers in Price per unit', z_score(mean_real,std_real,df_new2['Price per Unit'],threshold))\n",
        "threshold = 2\n",
        "print('List of outliers in Price per unit', z_score(mean_real,std_real,df_new2['Price per Unit'],threshold))"
      ],
      "metadata": {
        "colab": {
          "base_uri": "https://localhost:8080/"
        },
        "id": "GE-oju-_l_ZU",
        "outputId": "22bf9a8f-18b3-4641-de99-b0551c212f0b"
      },
      "execution_count": null,
      "outputs": [
        {
          "output_type": "stream",
          "name": "stdout",
          "text": [
            "List of outliers in Price per unit None\n",
            "List of outliers in Price per unit None\n"
          ]
        }
      ]
    },
    {
      "cell_type": "code",
      "source": [
        "threshold = 3\n",
        "print('List of outliers in Price per unit', z_score(mean_real,std_real,df_new2['Price per Unit (sold)'],threshold))\n",
        "threshold = 2\n",
        "print('List of outliers in Price per unit', z_score(mean_real,std_real,df_new2['Price per Unit (sold)'],threshold))"
      ],
      "metadata": {
        "colab": {
          "base_uri": "https://localhost:8080/"
        },
        "id": "Kr8YXA3umA_Z",
        "outputId": "cbd38d60-209d-4613-9c1e-85ae63fcc05d"
      },
      "execution_count": null,
      "outputs": [
        {
          "output_type": "stream",
          "name": "stdout",
          "text": [
            "List of outliers in Price per unit None\n",
            "List of outliers in Price per unit None\n"
          ]
        }
      ]
    },
    {
      "cell_type": "markdown",
      "source": [
        "BoxPlot Method"
      ],
      "metadata": {
        "id": "Jo8jdol_mDzX"
      }
    },
    {
      "cell_type": "code",
      "source": [
        "import seaborn as sns"
      ],
      "metadata": {
        "id": "x8mbsZMmmFcD"
      },
      "execution_count": null,
      "outputs": []
    },
    {
      "cell_type": "code",
      "source": [
        "sns.boxplot(list(df_new2['Price per Unit']))"
      ],
      "metadata": {
        "colab": {
          "base_uri": "https://localhost:8080/",
          "height": 448
        },
        "id": "UkKzybBtmHHa",
        "outputId": "5cdc8a5a-46e3-4dcf-9b57-8c59513b0c92"
      },
      "execution_count": null,
      "outputs": [
        {
          "output_type": "execute_result",
          "data": {
            "text/plain": [
              "<Axes: >"
            ]
          },
          "metadata": {},
          "execution_count": 15
        },
        {
          "output_type": "display_data",
          "data": {
            "text/plain": [
              "<Figure size 640x480 with 1 Axes>"
            ],
            "image/png": "[encoded data removed]"
          },
          "metadata": {}
        }
      ]
    },
    {
      "cell_type": "code",
      "source": [
        "sns.boxplot(list(df_new2['Price per Unit (sold)']))"
      ],
      "metadata": {
        "colab": {
          "base_uri": "https://localhost:8080/",
          "height": 448
        },
        "id": "9zAhozY3mJKU",
        "outputId": "32fa7c5a-b70b-44ad-fdf5-adcf00df9dc7"
      },
      "execution_count": null,
      "outputs": [
        {
          "output_type": "execute_result",
          "data": {
            "text/plain": [
              "<Axes: >"
            ]
          },
          "metadata": {},
          "execution_count": 16
        },
        {
          "output_type": "display_data",
          "data": {
            "text/plain": [
              "<Figure size 640x480 with 1 Axes>"
            ],
            "image/png": "[encoded data removed]"
          },
          "metadata": {}
        }
      ]
    },
    {
      "cell_type": "markdown",
      "source": [
        "By using the boxplot method we can see both the variable price per unit and price per unit(sold) doesn't have any outlier that means there are no value in both variable that outside of the 'Minimum'(Q1-1.5*IQR) or 'Maximum' (Q3+1.5*IQR). Which means the value on both variable are might be normally distributed."
      ],
      "metadata": {
        "id": "AzBEoWPqPrEk"
      }
    },
    {
      "cell_type": "markdown",
      "source": [
        "Before proceeding to the modeling phase, it's essential to determine and understand the nature or characteristics of the dataset include the null values and data type."
      ],
      "metadata": {
        "id": "seSMvyH8yVw8"
      }
    },
    {
      "cell_type": "code",
      "source": [
        "df_new2.info()"
      ],
      "metadata": {
        "colab": {
          "base_uri": "https://localhost:8080/"
        },
        "id": "j75vH6lLlbzd",
        "outputId": "eac54c80-6a2c-4f34-e5cd-f3a8b3eeb756"
      },
      "execution_count": null,
      "outputs": [
        {
          "output_type": "stream",
          "name": "stdout",
          "text": [
            "<class 'pandas.core.frame.DataFrame'>\n",
            "Int64Index: 1010 entries, 4 to 4324\n",
            "Data columns (total 12 columns):\n",
            " #   Column                      Non-Null Count  Dtype         \n",
            "---  ------                      --------------  -----         \n",
            " 0   Farm Size                   1010 non-null   object        \n",
            " 1   Date                        1010 non-null   datetime64[ns]\n",
            " 2   Product ID                  1010 non-null   int64         \n",
            " 3   Quantity (liters/kg)        1010 non-null   float64       \n",
            " 4   Price per Unit              1010 non-null   float64       \n",
            " 5   Total Value                 1010 non-null   float64       \n",
            " 6   Storage Condition           1010 non-null   object        \n",
            " 7   Quantity Sold (liters/kg)   1010 non-null   int64         \n",
            " 8   Price per Unit (sold)       1010 non-null   float64       \n",
            " 9   Approx. Total Revenue(INR)  1010 non-null   float64       \n",
            " 10  Customer Location           1010 non-null   object        \n",
            " 11  Sales Channel               1010 non-null   object        \n",
            "dtypes: datetime64[ns](1), float64(5), int64(2), object(4)\n",
            "memory usage: 102.6+ KB\n"
          ]
        }
      ]
    },
    {
      "cell_type": "code",
      "source": [
        "df_new2.isna().sum()"
      ],
      "metadata": {
        "colab": {
          "base_uri": "https://localhost:8080/"
        },
        "id": "SenhS_PExlyQ",
        "outputId": "cebb266e-1d0f-46ab-d885-9ca562729f82"
      },
      "execution_count": null,
      "outputs": [
        {
          "output_type": "execute_result",
          "data": {
            "text/plain": [
              "Farm Size                     0\n",
              "Date                          0\n",
              "Product ID                    0\n",
              "Quantity (liters/kg)          0\n",
              "Price per Unit                0\n",
              "Total Value                   0\n",
              "Storage Condition             0\n",
              "Quantity Sold (liters/kg)     0\n",
              "Price per Unit (sold)         0\n",
              "Approx. Total Revenue(INR)    0\n",
              "Customer Location             0\n",
              "Sales Channel                 0\n",
              "dtype: int64"
            ]
          },
          "metadata": {},
          "execution_count": 203
        }
      ]
    },
    {
      "cell_type": "markdown",
      "source": [
        "Indicates the dataset doesn't contain any null values, so we don't need to treat null and continue to build the model."
      ],
      "metadata": {
        "id": "87iSsvXrx94I"
      }
    },
    {
      "cell_type": "markdown",
      "source": [
        "# Feature Engineering and Model"
      ],
      "metadata": {
        "id": "IDV3b9z_zeRr"
      }
    },
    {
      "cell_type": "markdown",
      "source": [
        "Because our dataset includes categorical variables, we have chosen to encode them into numerical value before feeding the data to the model. This is the two techniques that we use to handle this problem:\n",
        "\n",
        "-. One-Hot Encoding: This method is suitable for nominal variables, i.e., variables where there is no order or priority. This could be applied to ‘Customer_Location’, and ‘Sales Channel’.\n",
        "\n",
        "-. Ordinal Encoding: This method is suitable for ordinal variables, i.e., variables that have some order. For example, if ‘Farm Size’ has an order (like Small < Medium < Large), then it can be encoded with corresponding ordinal numbers like 1, 2, 3"
      ],
      "metadata": {
        "id": "fcb7WAzTz6rE"
      }
    },
    {
      "cell_type": "code",
      "source": [
        "# One-Hot Encoding\n",
        "df_new2 = pd.get_dummies(df_new2, columns=['Customer Location', 'Sales Channel','Storage Condition'])"
      ],
      "metadata": {
        "id": "0vyUevCf3N-l"
      },
      "execution_count": null,
      "outputs": []
    },
    {
      "cell_type": "code",
      "source": [
        "# Ordinal Encoding\n",
        "from sklearn.preprocessing import OrdinalEncoder\n",
        "\n",
        "ordinal_encoder = OrdinalEncoder(categories=[['Small', 'Medium', 'Large']])\n",
        "df_new2['Farm Size'] = ordinal_encoder.fit_transform(df_new2[['Farm Size']])"
      ],
      "metadata": {
        "id": "QG-bmAx5zGJC"
      },
      "execution_count": null,
      "outputs": []
    },
    {
      "cell_type": "markdown",
      "source": [
        "Check the encode works or not"
      ],
      "metadata": {
        "id": "K5bvwU9UzWuo"
      }
    },
    {
      "cell_type": "code",
      "source": [
        "df_new2.info()"
      ],
      "metadata": {
        "colab": {
          "base_uri": "https://localhost:8080/"
        },
        "id": "n03fT3J25gtm",
        "outputId": "1c60da6f-b0e3-4943-b994-f4bbc13ec42c"
      },
      "execution_count": null,
      "outputs": [
        {
          "output_type": "stream",
          "name": "stdout",
          "text": [
            "<class 'pandas.core.frame.DataFrame'>\n",
            "Int64Index: 1010 entries, 4 to 4324\n",
            "Data columns (total 32 columns):\n",
            " #   Column                              Non-Null Count  Dtype         \n",
            "---  ------                              --------------  -----         \n",
            " 0   Farm Size                           1010 non-null   float64       \n",
            " 1   Date                                1010 non-null   datetime64[ns]\n",
            " 2   Product ID                          1010 non-null   int64         \n",
            " 3   Quantity (liters/kg)                1010 non-null   float64       \n",
            " 4   Price per Unit                      1010 non-null   float64       \n",
            " 5   Total Value                         1010 non-null   float64       \n",
            " 6   Quantity Sold (liters/kg)           1010 non-null   int64         \n",
            " 7   Price per Unit (sold)               1010 non-null   float64       \n",
            " 8   Approx. Total Revenue(INR)          1010 non-null   float64       \n",
            " 9   Customer Location_Bihar             1010 non-null   uint8         \n",
            " 10  Customer Location_Chandigarh        1010 non-null   uint8         \n",
            " 11  Customer Location_Delhi             1010 non-null   uint8         \n",
            " 12  Customer Location_Gujarat           1010 non-null   uint8         \n",
            " 13  Customer Location_Haryana           1010 non-null   uint8         \n",
            " 14  Customer Location_Jharkhand         1010 non-null   uint8         \n",
            " 15  Customer Location_Karnataka         1010 non-null   uint8         \n",
            " 16  Customer Location_Kerala            1010 non-null   uint8         \n",
            " 17  Customer Location_Madhya Pradesh    1010 non-null   uint8         \n",
            " 18  Customer Location_Maharashtra       1010 non-null   uint8         \n",
            " 19  Customer Location_Rajasthan         1010 non-null   uint8         \n",
            " 20  Customer Location_Tamil Nadu        1010 non-null   uint8         \n",
            " 21  Customer Location_Telangana         1010 non-null   uint8         \n",
            " 22  Customer Location_Uttar Pradesh     1010 non-null   uint8         \n",
            " 23  Customer Location_West Bengal       1010 non-null   uint8         \n",
            " 24  Sales Channel_Online                1010 non-null   uint8         \n",
            " 25  Sales Channel_Retail                1010 non-null   uint8         \n",
            " 26  Sales Channel_Wholesale             1010 non-null   uint8         \n",
            " 27  Storage Condition_Ambient           1010 non-null   uint8         \n",
            " 28  Storage Condition_Frozen            1010 non-null   uint8         \n",
            " 29  Storage Condition_Polythene Packet  1010 non-null   uint8         \n",
            " 30  Storage Condition_Refrigerated      1010 non-null   uint8         \n",
            " 31  Storage Condition_Tetra Pack        1010 non-null   uint8         \n",
            "dtypes: datetime64[ns](1), float64(6), int64(2), uint8(23)\n",
            "memory usage: 101.6 KB\n"
          ]
        }
      ]
    },
    {
      "cell_type": "markdown",
      "source": [
        "# 1st Model"
      ],
      "metadata": {
        "id": "q2Balqitzeyt"
      }
    },
    {
      "cell_type": "markdown",
      "source": [
        "Import the library/tools to perform various machine learning tasks, including data splitting, linear regression, decision tree regression, and k-nearest neighbors regression. These models can be used for tasks such as prediction and modeling relationships in your data."
      ],
      "metadata": {
        "id": "-XHBu1z0PWSH"
      }
    },
    {
      "cell_type": "code",
      "source": [
        "from sklearn.model_selection import train_test_split\n",
        "from sklearn.linear_model import LinearRegression\n",
        "from sklearn.tree import DecisionTreeRegressor\n",
        "from sklearn.neighbors import KNeighborsRegressor"
      ],
      "metadata": {
        "id": "n45OZ2mlPVXG"
      },
      "execution_count": null,
      "outputs": []
    },
    {
      "cell_type": "markdown",
      "source": [
        "Creates a new DataFrame 'X' by dropping 4 columns, 'Date', 'Price per Unit (sold), 'Total Value', and 'Approx. Total Revenue(INR) from the DataFrame df_new2. The resulting DataFrame X will contain the features (independent variables) for our model also creates a pandas Series 'y' by selecting the 'Price per Unit (sold)' column from the DataFrame df_new2. The Series y will contain the target variable (the variable you want to predict) for our model."
      ],
      "metadata": {
        "id": "gBwzv__Izjcr"
      }
    },
    {
      "cell_type": "code",
      "source": [
        "X = df_new2.drop(columns = ['Date', 'Price per Unit (sold)', 'Total Value', 'Approx. Total Revenue(INR)'])\n",
        "y = df_new2['Price per Unit (sold)']"
      ],
      "metadata": {
        "id": "WA0uByR35kX0"
      },
      "execution_count": null,
      "outputs": []
    },
    {
      "cell_type": "markdown",
      "source": [
        "splits your data into training and testing sets using the train_test_split with specifies that 20% of the data will be used as the testing set, while the remaining 80% will be used as the training set."
      ],
      "metadata": {
        "id": "0cHSwZxHzrln"
      }
    },
    {
      "cell_type": "code",
      "source": [
        "# Split the data into training and testing sets\n",
        "X_train, X_test, y_train, y_test = train_test_split(X, y, test_size=0.2, random_state=42)"
      ],
      "metadata": {
        "id": "u89TV8vjzsEe"
      },
      "execution_count": null,
      "outputs": []
    },
    {
      "cell_type": "markdown",
      "source": [
        "Check the characteristics of 'X'"
      ],
      "metadata": {
        "id": "NG5Tx4Al0PlV"
      }
    },
    {
      "cell_type": "code",
      "source": [
        "X.info()"
      ],
      "metadata": {
        "colab": {
          "base_uri": "https://localhost:8080/"
        },
        "id": "OyKUe4Kt-kv1",
        "outputId": "1ef45569-3c23-4a7c-a8af-ceb911dd4ab4"
      },
      "execution_count": null,
      "outputs": [
        {
          "output_type": "stream",
          "name": "stdout",
          "text": [
            "<class 'pandas.core.frame.DataFrame'>\n",
            "Int64Index: 1010 entries, 4 to 4324\n",
            "Data columns (total 28 columns):\n",
            " #   Column                              Non-Null Count  Dtype  \n",
            "---  ------                              --------------  -----  \n",
            " 0   Farm Size                           1010 non-null   float64\n",
            " 1   Product ID                          1010 non-null   int64  \n",
            " 2   Quantity (liters/kg)                1010 non-null   float64\n",
            " 3   Price per Unit                      1010 non-null   float64\n",
            " 4   Quantity Sold (liters/kg)           1010 non-null   int64  \n",
            " 5   Customer Location_Bihar             1010 non-null   uint8  \n",
            " 6   Customer Location_Chandigarh        1010 non-null   uint8  \n",
            " 7   Customer Location_Delhi             1010 non-null   uint8  \n",
            " 8   Customer Location_Gujarat           1010 non-null   uint8  \n",
            " 9   Customer Location_Haryana           1010 non-null   uint8  \n",
            " 10  Customer Location_Jharkhand         1010 non-null   uint8  \n",
            " 11  Customer Location_Karnataka         1010 non-null   uint8  \n",
            " 12  Customer Location_Kerala            1010 non-null   uint8  \n",
            " 13  Customer Location_Madhya Pradesh    1010 non-null   uint8  \n",
            " 14  Customer Location_Maharashtra       1010 non-null   uint8  \n",
            " 15  Customer Location_Rajasthan         1010 non-null   uint8  \n",
            " 16  Customer Location_Tamil Nadu        1010 non-null   uint8  \n",
            " 17  Customer Location_Telangana         1010 non-null   uint8  \n",
            " 18  Customer Location_Uttar Pradesh     1010 non-null   uint8  \n",
            " 19  Customer Location_West Bengal       1010 non-null   uint8  \n",
            " 20  Sales Channel_Online                1010 non-null   uint8  \n",
            " 21  Sales Channel_Retail                1010 non-null   uint8  \n",
            " 22  Sales Channel_Wholesale             1010 non-null   uint8  \n",
            " 23  Storage Condition_Ambient           1010 non-null   uint8  \n",
            " 24  Storage Condition_Frozen            1010 non-null   uint8  \n",
            " 25  Storage Condition_Polythene Packet  1010 non-null   uint8  \n",
            " 26  Storage Condition_Refrigerated      1010 non-null   uint8  \n",
            " 27  Storage Condition_Tetra Pack        1010 non-null   uint8  \n",
            "dtypes: float64(3), int64(2), uint8(23)\n",
            "memory usage: 70.0 KB\n"
          ]
        }
      ]
    },
    {
      "cell_type": "markdown",
      "source": [
        "Create instances of the three regression models and Fitting the models to the training data:\n",
        "1. model for linear regression\n",
        "2. model for decision tree regression\n",
        "3. model for k-nearest neighbors regression"
      ],
      "metadata": {
        "id": "5NF3NSP40baI"
      }
    },
    {
      "cell_type": "code",
      "source": [
        "model = LinearRegression()\n",
        "model2 = DecisionTreeRegressor()\n",
        "model3 = KNeighborsRegressor()\n",
        "\n",
        "# Fit the model to the training data\n",
        "model.fit(X_train, y_train)\n",
        "model2.fit(X_train, y_train)\n",
        "model3.fit(X_train, y_train)"
      ],
      "metadata": {
        "colab": {
          "base_uri": "https://localhost:8080/"
        },
        "id": "oVkhBVCgIroj",
        "outputId": "53957e37-c2ff-4495-d137-7c2e8f6dcd79"
      },
      "execution_count": null,
      "outputs": [
        {
          "output_type": "execute_result",
          "data": {
            "text/plain": [
              "KNeighborsRegressor()"
            ],
            "text/html": [
              "<style>#sk-container-id-9 {color: black;background-color: white;}#sk-container-id-9 pre{padding: 0;}#sk-container-id-9 div.sk-toggleable {background-color: white;}#sk-container-id-9 label.sk-toggleable__label {cursor: pointer;display: block;width: 100%;margin-bottom: 0;padding: 0.3em;box-sizing: border-box;text-align: center;}#sk-container-id-9 label.sk-toggleable__label-arrow:before {content: \"▸\";float: left;margin-right: 0.25em;color: #696969;}#sk-container-id-9 label.sk-toggleable__label-arrow:hover:before {color: black;}#sk-container-id-9 div.sk-estimator:hover label.sk-toggleable__label-arrow:before {color: black;}#sk-container-id-9 div.sk-toggleable__content {max-height: 0;max-width: 0;overflow: hidden;text-align: left;background-color: #f0f8ff;}#sk-container-id-9 div.sk-toggleable__content pre {margin: 0.2em;color: black;border-radius: 0.25em;background-color: #f0f8ff;}#sk-container-id-9 input.sk-toggleable__control:checked~div.sk-toggleable__content {max-height: 200px;max-width: 100%;overflow: auto;}#sk-container-id-9 input.sk-toggleable__control:checked~label.sk-toggleable__label-arrow:before {content: \"▾\";}#sk-container-id-9 div.sk-estimator input.sk-toggleable__control:checked~label.sk-toggleable__label {background-color: #d4ebff;}#sk-container-id-9 div.sk-label input.sk-toggleable__control:checked~label.sk-toggleable__label {background-color: #d4ebff;}#sk-container-id-9 input.sk-hidden--visually {border: 0;clip: rect(1px 1px 1px 1px);clip: rect(1px, 1px, 1px, 1px);height: 1px;margin: -1px;overflow: hidden;padding: 0;position: absolute;width: 1px;}#sk-container-id-9 div.sk-estimator {font-family: monospace;background-color: #f0f8ff;border: 1px dotted black;border-radius: 0.25em;box-sizing: border-box;margin-bottom: 0.5em;}#sk-container-id-9 div.sk-estimator:hover {background-color: #d4ebff;}#sk-container-id-9 div.sk-parallel-item::after {content: \"\";width: 100%;border-bottom: 1px solid gray;flex-grow: 1;}#sk-container-id-9 div.sk-label:hover label.sk-toggleable__label {background-color: #d4ebff;}#sk-container-id-9 div.sk-serial::before {content: \"\";position: absolute;border-left: 1px solid gray;box-sizing: border-box;top: 0;bottom: 0;left: 50%;z-index: 0;}#sk-container-id-9 div.sk-serial {display: flex;flex-direction: column;align-items: center;background-color: white;padding-right: 0.2em;padding-left: 0.2em;position: relative;}#sk-container-id-9 div.sk-item {position: relative;z-index: 1;}#sk-container-id-9 div.sk-parallel {display: flex;align-items: stretch;justify-content: center;background-color: white;position: relative;}#sk-container-id-9 div.sk-item::before, #sk-container-id-9 div.sk-parallel-item::before {content: \"\";position: absolute;border-left: 1px solid gray;box-sizing: border-box;top: 0;bottom: 0;left: 50%;z-index: -1;}#sk-container-id-9 div.sk-parallel-item {display: flex;flex-direction: column;z-index: 1;position: relative;background-color: white;}#sk-container-id-9 div.sk-parallel-item:first-child::after {align-self: flex-end;width: 50%;}#sk-container-id-9 div.sk-parallel-item:last-child::after {align-self: flex-start;width: 50%;}#sk-container-id-9 div.sk-parallel-item:only-child::after {width: 0;}#sk-container-id-9 div.sk-dashed-wrapped {border: 1px dashed gray;margin: 0 0.4em 0.5em 0.4em;box-sizing: border-box;padding-bottom: 0.4em;background-color: white;}#sk-container-id-9 div.sk-label label {font-family: monospace;font-weight: bold;display: inline-block;line-height: 1.2em;}#sk-container-id-9 div.sk-label-container {text-align: center;}#sk-container-id-9 div.sk-container {/* jupyter's `normalize.less` sets `[hidden] { display: none; }` but bootstrap.min.css set `[hidden] { display: none !important; }` so we also need the `!important` here to be able to override the default hidden behavior on the sphinx rendered scikit-learn.org. See: https://github.com/scikit-learn/scikit-learn/issues/21755 */display: inline-block !important;position: relative;}#sk-container-id-9 div.sk-text-repr-fallback {display: none;}</style><div id=\"sk-container-id-9\" class=\"sk-top-container\"><div class=\"sk-text-repr-fallback\"><pre>KNeighborsRegressor()</pre><b>In a Jupyter environment, please rerun this cell to show the HTML representation or trust the notebook. <br />On GitHub, the HTML representation is unable to render, please try loading this page with nbviewer.org.</b></div><div class=\"sk-container\" hidden><div class=\"sk-item\"><div class=\"sk-estimator sk-toggleable\"><input class=\"sk-toggleable__control sk-hidden--visually\" id=\"sk-estimator-id-9\" type=\"checkbox\" checked><label for=\"sk-estimator-id-9\" class=\"sk-toggleable__label sk-toggleable__label-arrow\">KNeighborsRegressor</label><div class=\"sk-toggleable__content\"><pre>KNeighborsRegressor()</pre></div></div></div></div></div>"
            ]
          },
          "metadata": {},
          "execution_count": 210
        }
      ]
    },
    {
      "cell_type": "markdown",
      "source": [
        "Using three different regression models (model, model2, and model3) to make predictions on the testing data (X_test) and storing the predictions in y_pred1, y_pred2, and y_pred3."
      ],
      "metadata": {
        "id": "MJPR8-Tx1HmP"
      }
    },
    {
      "cell_type": "code",
      "source": [
        "y_pred1 = model.predict(X_test)\n",
        "y_pred2 = model2.predict(X_test)\n",
        "y_pred3 = model3.predict(X_test)"
      ],
      "metadata": {
        "id": "kTFYrPYx60uc"
      },
      "execution_count": null,
      "outputs": []
    },
    {
      "cell_type": "markdown",
      "source": [
        "# 1st Evaluation"
      ],
      "metadata": {
        "id": "tXR_btYW6wtc"
      }
    },
    {
      "cell_type": "markdown",
      "source": [
        "We evaluate the performance of three different regression models using five different metrics:\n",
        "- Mean Absolute Error (MAE): This is the average of the absolute differences between the predicted and actual values. It gives an idea of how wrong the predictions were. The measure gives an equal weight to all errors, regardless of their direction (positive or negative errors).\n",
        "- Mean Squared Error (MSE): This is similar to MAE but squares the differences before they are averaged. This means larger errors are noted more than with MAE, making MSE more useful when larger errors are particularly undesirable.\n",
        "- Mean Absolute Percentage Error (MAPE): This is the average of the absolute percentage differences between the predicted and actual values. It gives an idea of the error in terms of the percentage of the actual value.\n",
        "- Root Mean Squared Error (RMSE): This is the square root of MSE. It measures the standard deviation of the residuals (prediction errors). Residuals are a measure of how far from the regression line data points are.\n",
        "- R-squared (R²): This is a statistical measure that represents the proportion of the variance for a dependent variable that’s explained by an independent variable or variables in a regression model.\n",
        "\n",
        "The advantage of using these metrics together is that they provide a comprehensive view of the model performance. While R² gives us an idea about how well our model fits the data, MAE, MSE, RMPE, and MAPE give us insight into how much our predictions deviate, on average, from the actual values in the dataset. This can help us choose the best model for our needs.\n",
        "\n",
        "How it measure:\n",
        "- Lower MAE indicates better accuracy.,\n",
        "- Lower MSE indicates better accuracy.\n",
        "- Lower MAPE is desirable, indicating a smaller percentage error.,\n",
        "- Lower RMSE suggests better accuracy.\n",
        "- R² close to 1 indicates a good fit."
      ],
      "metadata": {
        "id": "JmpuC0sPN7LB"
      }
    },
    {
      "cell_type": "code",
      "source": [
        "from sklearn import metrics\n",
        "import numpy as np\n",
        "\n",
        "# Define the models and their names\n",
        "models = [y_pred1, y_pred2, y_pred3]\n",
        "model_names = [\"Linear Regression Model\", \"Decision Tree Regression Model\", \"K-Nearest Neighbors Regression Model\"]\n",
        "\n",
        "# Define the metrics\n",
        "def mean_absolute_percentage_error(y_true, y_pred):\n",
        "    return np.mean(np.abs((y_true - y_pred) / y_true)) * 100\n",
        "\n",
        "metrics_funcs = [metrics.mean_absolute_error, metrics.mean_squared_error, mean_absolute_percentage_error, np.sqrt, metrics.r2_score]\n",
        "metrics_names = [\"MAE\", \"MSE\", \"MAPE\", \"RMSE\", \"R-squared (R²)\"]\n",
        "\n",
        "# Calculate and print the metrics for each model\n",
        "for model, name in zip(models, model_names):\n",
        "    print(name + \":\")\n",
        "    for func, metric in zip(metrics_funcs, metrics_names):\n",
        "        if metric == \"RMSE\":\n",
        "            print(metric + \":\", func(metrics.mean_squared_error(y_test, model)))\n",
        "        else:\n",
        "            print(metric + \":\", func(y_test, model))\n",
        "    print()\n"
      ],
      "metadata": {
        "colab": {
          "base_uri": "https://localhost:8080/"
        },
        "id": "AqJcPX9bBdDa",
        "outputId": "2ef095be-303a-4dfe-82bc-f20f9c745e2e"
      },
      "execution_count": null,
      "outputs": [
        {
          "output_type": "stream",
          "name": "stdout",
          "text": [
            "Linear Regression Model:\n",
            "MAE: 2.5207732196339814\n",
            "MSE: 8.689772501089823\n",
            "MAPE: 6.6052181717005105\n",
            "RMSE: 2.9478420074844283\n",
            "R-squared (R²): 0.9868383491952721\n",
            "\n",
            "Decision Tree Regression Model:\n",
            "MAE: 3.541039603960396\n",
            "MSE: 18.395905445544557\n",
            "MAPE: 9.152462350445392\n",
            "RMSE: 4.289044817385866\n",
            "R-squared (R²): 0.9721373046669882\n",
            "\n",
            "K-Nearest Neighbors Regression Model:\n",
            "MAE: 9.85707920792079\n",
            "MSE: 157.10684584158417\n",
            "MAPE: 29.315831410864657\n",
            "RMSE: 12.534226974232762\n",
            "R-squared (R²): 0.7620437768952166\n",
            "\n"
          ]
        }
      ]
    },
    {
      "cell_type": "markdown",
      "source": [
        "Evaluation Analysis:\n",
        "- The Linear Regression model performs exceptionally well, with low MAE, MSE, MAPE, RMSE, and a high R-squared value, indicating a strong linear relationship between features and the target variable.\n",
        "- The Decision Tree Regression model performs reasonably well but has slightly higher errors and a lower R-squared value compared to Linear Regression.\n",
        "- The K-Nearest Neighbors model shows the highest errors and the lowest R-squared value, suggesting a weaker fit and lower accuracy compared to the other two models.\n",
        "\n",
        "In summary, based on these metrics, the Linear Regression model appears to be the most accurate and provides the best fit for the data. However, the choice of the best model also depends on the specific requirements and characteristics of your dataset and problem. It's essential to consider both the numerical metrics and the context when selecting the most suitable model."
      ],
      "metadata": {
        "id": "yzDUK_ZE5V9v"
      }
    },
    {
      "cell_type": "markdown",
      "source": [
        "Correlation check"
      ],
      "metadata": {
        "id": "rn8EOD2l5vFz"
      }
    },
    {
      "cell_type": "code",
      "source": [
        "correlations = X.corrwith(y)\n",
        "correlations"
      ],
      "metadata": {
        "colab": {
          "base_uri": "https://localhost:8080/"
        },
        "id": "FzCav4ZJF7P5",
        "outputId": "ecd29607-3cf3-4f8b-b892-7f4af853bbbc"
      },
      "execution_count": null,
      "outputs": [
        {
          "output_type": "execute_result",
          "data": {
            "text/plain": [
              "Farm Size                             0.013803\n",
              "Product ID                           -0.010652\n",
              "Quantity (liters/kg)                  0.013864\n",
              "Price per Unit                        0.994065\n",
              "Quantity Sold (liters/kg)             0.013182\n",
              "Customer Location_Bihar              -0.027100\n",
              "Customer Location_Chandigarh          0.028643\n",
              "Customer Location_Delhi              -0.034500\n",
              "Customer Location_Gujarat            -0.020117\n",
              "Customer Location_Haryana             0.005636\n",
              "Customer Location_Jharkhand           0.021236\n",
              "Customer Location_Karnataka          -0.016722\n",
              "Customer Location_Kerala              0.043099\n",
              "Customer Location_Madhya Pradesh     -0.036278\n",
              "Customer Location_Maharashtra         0.025308\n",
              "Customer Location_Rajasthan          -0.029824\n",
              "Customer Location_Tamil Nadu         -0.001364\n",
              "Customer Location_Telangana          -0.027519\n",
              "Customer Location_Uttar Pradesh       0.019326\n",
              "Customer Location_West Bengal         0.055032\n",
              "Sales Channel_Online                  0.014315\n",
              "Sales Channel_Retail                 -0.023087\n",
              "Sales Channel_Wholesale               0.008806\n",
              "Storage Condition_Ambient             0.028113\n",
              "Storage Condition_Frozen             -0.053708\n",
              "Storage Condition_Polythene Packet    0.013200\n",
              "Storage Condition_Refrigerated        0.020824\n",
              "Storage Condition_Tetra Pack         -0.000425\n",
              "dtype: float64"
            ]
          },
          "metadata": {},
          "execution_count": 213
        }
      ]
    },
    {
      "cell_type": "markdown",
      "source": [
        "Here's how to interpret this output:\n",
        "\n",
        "- Positive Correlation: Features with positive correlation coefficients (e.g., values close to 1) have a positive linear relationship with the target variable. As these features increase, the 'Price per Unit (sold)' tends to increase.\n",
        "- Negative Correlation: Features with negative correlation coefficients (e.g., values close to -1) have a negative linear relationship with the target variable. As these features increase, the 'Price per Unit (sold)' tends to decrease.\n",
        "- Weak Correlation: Features with correlation coefficients close to 0 have a weak linear relationship with the target variable.\n",
        "\n",
        "Key takeaways from the output:\n",
        "- 'Price per Unit' itself has a strong positive correlation with 'Price per Unit (sold)'. This is expected, cause ‘Price per Unit’ is the initial price set by the company, while ‘Price per Unit (sold)’ could be the actual selling price which might include discounts or other pricing strategies.\n",
        "- Some customer location and storage condition variables have positive and negative correlations with 'Price per Unit (sold).' For example, 'Customer Location_West Bengal' has a strong positive correlation, while 'Storage Condition_Frozen' has a strong negative correlation.\n",
        "\n",
        "These correlation coefficients provide insights into how each feature is related to the target variable and can help to understand the relationships within our data."
      ],
      "metadata": {
        "id": "4YMn3K625x7J"
      }
    },
    {
      "cell_type": "markdown",
      "source": [
        "# Neural Network Try"
      ],
      "metadata": {
        "id": "2Ei0ko6oFZ85"
      }
    },
    {
      "cell_type": "code",
      "source": [
        "X_train.shape"
      ],
      "metadata": {
        "colab": {
          "base_uri": "https://localhost:8080/"
        },
        "id": "5PD0ryrqFMrK",
        "outputId": "e44bd117-69ab-475a-8677-cd9e849b2997"
      },
      "execution_count": null,
      "outputs": [
        {
          "output_type": "execute_result",
          "data": {
            "text/plain": [
              "(808, 28)"
            ]
          },
          "metadata": {},
          "execution_count": 214
        }
      ]
    },
    {
      "cell_type": "code",
      "source": [
        "# #NEURAL NET\n",
        "\n",
        "from tensorflow.keras.models import Sequential\n",
        "from tensorflow.keras.layers import Dense\n",
        "\n",
        "modelN = Sequential()\n",
        "modelN.add(Dense(60, activation='relu', input_shape=(X_train.shape[1],)))\n",
        "modelN.add(Dense(30, activation='relu'))\n",
        "modelN.add(Dense(1, activation='linear'))  # Output layer for regression (quantity sold prediction)\n",
        "modelN.compile(optimizer='adam', loss='mse')\n",
        "\n",
        "modelN.fit(X_train, y_train, epochs=20, batch_size=32, validation_split=0.2)\n",
        "\n",
        "y_predN = modelN.predict(X_test)"
      ],
      "metadata": {
        "id": "gpu4iUzSEqLW",
        "colab": {
          "base_uri": "https://localhost:8080/"
        },
        "outputId": "72294821-d94d-4780-c36d-bf8fe3bd9182"
      },
      "execution_count": null,
      "outputs": [
        {
          "output_type": "stream",
          "name": "stdout",
          "text": [
            "Epoch 1/20\n",
            "21/21 [==============================] - 1s 11ms/step - loss: 5165.4731 - val_loss: 2373.7012\n",
            "Epoch 2/20\n",
            "21/21 [==============================] - 0s 4ms/step - loss: 1004.5490 - val_loss: 690.7974\n",
            "Epoch 3/20\n",
            "21/21 [==============================] - 0s 3ms/step - loss: 484.8961 - val_loss: 268.0755\n",
            "Epoch 4/20\n",
            "21/21 [==============================] - 0s 4ms/step - loss: 134.9267 - val_loss: 70.5913\n",
            "Epoch 5/20\n",
            "21/21 [==============================] - 0s 3ms/step - loss: 38.0086 - val_loss: 23.4937\n",
            "Epoch 6/20\n",
            "21/21 [==============================] - 0s 4ms/step - loss: 20.1630 - val_loss: 18.8171\n",
            "Epoch 7/20\n",
            "21/21 [==============================] - 0s 4ms/step - loss: 17.0746 - val_loss: 15.5644\n",
            "Epoch 8/20\n",
            "21/21 [==============================] - 0s 4ms/step - loss: 13.8736 - val_loss: 12.6277\n",
            "Epoch 9/20\n",
            "21/21 [==============================] - 0s 3ms/step - loss: 13.4681 - val_loss: 12.0466\n",
            "Epoch 10/20\n",
            "21/21 [==============================] - 0s 4ms/step - loss: 12.2314 - val_loss: 11.3133\n",
            "Epoch 11/20\n",
            "21/21 [==============================] - 0s 4ms/step - loss: 12.7506 - val_loss: 9.7335\n",
            "Epoch 12/20\n",
            "21/21 [==============================] - 0s 4ms/step - loss: 10.9412 - val_loss: 9.9969\n",
            "Epoch 13/20\n",
            "21/21 [==============================] - 0s 4ms/step - loss: 10.0385 - val_loss: 8.9770\n",
            "Epoch 14/20\n",
            "21/21 [==============================] - 0s 4ms/step - loss: 9.6941 - val_loss: 8.8622\n",
            "Epoch 15/20\n",
            "21/21 [==============================] - 0s 4ms/step - loss: 9.3227 - val_loss: 9.2069\n",
            "Epoch 16/20\n",
            "21/21 [==============================] - 0s 4ms/step - loss: 9.0043 - val_loss: 10.3491\n",
            "Epoch 17/20\n",
            "21/21 [==============================] - 0s 4ms/step - loss: 9.5927 - val_loss: 10.8767\n",
            "Epoch 18/20\n",
            "21/21 [==============================] - 0s 4ms/step - loss: 9.2255 - val_loss: 8.2227\n",
            "Epoch 19/20\n",
            "21/21 [==============================] - 0s 4ms/step - loss: 8.6893 - val_loss: 8.7982\n",
            "Epoch 20/20\n",
            "21/21 [==============================] - 0s 4ms/step - loss: 8.6680 - val_loss: 9.3139\n",
            "7/7 [==============================] - 0s 2ms/step\n"
          ]
        }
      ]
    },
    {
      "cell_type": "markdown",
      "source": [
        "For evaluation, we will use only four metrics - R-squared (R²), MAE (Mean Absolute Error), MSE (Mean Squared Error), and RMSE (Root Mean Squared Error). This decision was made because using the mean_absolute_percentage_error metric would require changing the dimension of the data"
      ],
      "metadata": {
        "id": "4NNsxOt1JDte"
      }
    },
    {
      "cell_type": "code",
      "source": [
        "# Calculate R-squared\n",
        "r2n = metrics.r2_score(y_test, y_predN)\n",
        "print(\"R-squared (R2) Score:\", r2n)\n",
        "\n",
        "# Calculate MAE\n",
        "maeN = metrics.mean_absolute_error(y_test, y_predN)\n",
        "print(\"Mean Absolute Error (MAE):\", maeN)\n",
        "\n",
        "# Calculate MSE\n",
        "mseN = metrics.mean_squared_error(y_test, y_predN)\n",
        "print(\"Mean Squared Error (MSE):\", mseN)\n",
        "\n",
        "# Calculate RMSE\n",
        "rmseN = np.sqrt(mseN)\n",
        "print(\"Root Mean Squared Error (RMSE):\", rmseN)"
      ],
      "metadata": {
        "colab": {
          "base_uri": "https://localhost:8080/"
        },
        "id": "CfDim8rkIWo6",
        "outputId": "b0817365-b43d-4a10-b6d3-c7b460137958"
      },
      "execution_count": null,
      "outputs": [
        {
          "output_type": "stream",
          "name": "stdout",
          "text": [
            "R-squared (R2) Score: 0.9832952462920025\n",
            "Mean Absolute Error (MAE): 2.7976312973475688\n",
            "Mean Squared Error (MSE): 11.029050349602914\n",
            "Root Mean Squared Error (RMSE): 3.321001407648439\n"
          ]
        }
      ]
    },
    {
      "cell_type": "code",
      "source": [
        "# Get the index of the Linear Regression model in the models list\n",
        "index = model_names.index(\"Linear Regression Model\")\n",
        "# Get the R-squared (R²) value for the Linear Regression model\n",
        "r2_linear_regression = metrics.r2_score(y_test, models[index])\n",
        "\n",
        "r2n > r2_linear_regression"
      ],
      "metadata": {
        "colab": {
          "base_uri": "https://localhost:8080/"
        },
        "id": "x5ftUrN7Fb7F",
        "outputId": "48e24b53-64c5-4a50-fcee-9b4ba7ec737f"
      },
      "execution_count": null,
      "outputs": [
        {
          "output_type": "execute_result",
          "data": {
            "text/plain": [
              "False"
            ]
          },
          "metadata": {},
          "execution_count": 217
        }
      ]
    },
    {
      "cell_type": "markdown",
      "source": [
        "Based on the results from this neural network architecture, the performance is quite good. However, it still can’t surpass the Linear Regression model in this case. Therefore, we’ve decided to proceed with solving this problem using only the Linear Regression algorithm."
      ],
      "metadata": {
        "id": "sM3gu09ZABIK"
      }
    },
    {
      "cell_type": "markdown",
      "source": [
        "# Feature Selection 1\n",
        "Using Only 'Price per Unit' as feature"
      ],
      "metadata": {
        "id": "NYPo0MJYFg5E"
      }
    },
    {
      "cell_type": "markdown",
      "source": [
        "Based on statistical approch corelation output we decided that if we’re trying to predict the best selling price (‘Price per Unit (sold)’), then ‘Price per Unit’ could be the most useful feature, as it represents the company’s initial pricing decision.\n",
        "\n"
      ],
      "metadata": {
        "id": "Fg4Cbe4hYk7D"
      }
    },
    {
      "cell_type": "code",
      "source": [
        "X = df_new2[['Price per Unit']]\n",
        "y = df_new2['Price per Unit (sold)']\n",
        "\n",
        "# Split the data into training and testing sets\n",
        "X_train, X_test, y_train, y_test = train_test_split(X, y, test_size=0.2, random_state=42)\n",
        "\n",
        "# Initialize the model\n",
        "model = LinearRegression()\n",
        "\n",
        "# Fit the model to the training data\n",
        "model.fit(X_train, y_train)\n",
        "\n",
        "# Make predictions on the test data\n",
        "y_pred = model.predict(X_test)\n",
        "\n",
        "# Calculate MAE\n",
        "mae = metrics.mean_absolute_error(y_test, y_pred)\n",
        "print(\"Mean Absolute Error (MAE):\", mae)\n",
        "\n",
        "# Calculate MSE\n",
        "mse = metrics.mean_squared_error(y_test, y_pred)\n",
        "print(\"Mean Squared Error (MSE):\", mse)\n",
        "\n",
        "# Calculate RMSE\n",
        "rmse = np.sqrt(mse)\n",
        "print(\"Root Mean Squared Error (RMSE):\", rmse)\n",
        "\n",
        "# Define function for MAPE\n",
        "def mean_absolute_percentage_error(y_true, y_pred):\n",
        "    return np.mean(np.abs((y_true - y_pred) / y_true)) * 100\n",
        "\n",
        "# Calculate MAPE\n",
        "mape = mean_absolute_percentage_error(y_test, y_pred)\n",
        "print(\"Mean Absolute Percentage Error (MAPE):\", mape)\n",
        "\n",
        "# Calculate R-squared (R²)\n",
        "r2 = metrics.r2_score(y_test, y_pred)\n",
        "print(\"R-squared (R²):\", r2)"
      ],
      "metadata": {
        "colab": {
          "base_uri": "https://localhost:8080/"
        },
        "id": "LYt-5DC08gwR",
        "outputId": "fed1b22c-64d1-4f26-c0ac-4b9510bc2e96"
      },
      "execution_count": null,
      "outputs": [
        {
          "output_type": "stream",
          "name": "stdout",
          "text": [
            "Mean Absolute Error (MAE): 2.5020269888166404\n",
            "Mean Squared Error (MSE): 8.321453101169531\n",
            "Root Mean Squared Error (RMSE): 2.884692895469036\n",
            "Mean Absolute Percentage Error (MAPE): 6.59370780794796\n",
            "R-squared (R²): 0.9873962109029003\n"
          ]
        }
      ]
    },
    {
      "cell_type": "markdown",
      "source": [
        "Compare with previous model evaluation"
      ],
      "metadata": {
        "id": "0iC_0RBFMKtJ"
      }
    },
    {
      "cell_type": "code",
      "source": [
        "r2 > r2_linear_regression"
      ],
      "metadata": {
        "colab": {
          "base_uri": "https://localhost:8080/"
        },
        "id": "0K7hKP1_LcZE",
        "outputId": "c488ff1c-383f-448b-d848-ed101e9c2762"
      },
      "execution_count": null,
      "outputs": [
        {
          "output_type": "execute_result",
          "data": {
            "text/plain": [
              "True"
            ]
          },
          "metadata": {},
          "execution_count": 219
        }
      ]
    },
    {
      "cell_type": "markdown",
      "source": [
        "Notes:\n",
        "- r2: R-squared (R²) of the new model  (with one feature)\n",
        "- r2_linear_regression: R-squared (R²) of previous model (various feature)\n",
        "\n",
        "So the model performs better when ‘Price per Unit’ is included as the only feature, it could be because ‘Price per Unit’ is a strong predictor of ‘Price per Unit (sold)’."
      ],
      "metadata": {
        "id": "uTBgYiQqArw7"
      }
    },
    {
      "cell_type": "markdown",
      "source": [
        "Data leakage test with unseen data"
      ],
      "metadata": {
        "id": "tTcpKgJ9GsTd"
      }
    },
    {
      "cell_type": "code",
      "source": [
        "Price = np.array([1000, 181, 1]).reshape(-1, 1)\n",
        "y = model.predict(Price)\n",
        "print(\"Actual: \")\n",
        "for i in Price:\n",
        "  print(i)\n",
        "print(\"\\nPrediced:\")\n",
        "for i in np.array(y):\n",
        "  print(i)\n",
        "print()"
      ],
      "metadata": {
        "colab": {
          "base_uri": "https://localhost:8080/"
        },
        "id": "KL_VyoS1aUrY",
        "outputId": "0bd29673-852b-4775-9b28-29f421ea3a4b"
      },
      "execution_count": null,
      "outputs": [
        {
          "output_type": "stream",
          "name": "stdout",
          "text": [
            "Actual: \n",
            "[1000]\n",
            "[181]\n",
            "[1]\n",
            "\n",
            "Prediced:\n",
            "997.2569551463082\n",
            "180.66057456150224\n",
            "1.1888425648416079\n",
            "\n"
          ]
        },
        {
          "output_type": "stream",
          "name": "stderr",
          "text": [
            "/usr/local/lib/python3.10/dist-packages/sklearn/base.py:439: UserWarning: X does not have valid feature names, but LinearRegression was fitted with feature names\n",
            "  warnings.warn(\n"
          ]
        }
      ]
    },
    {
      "cell_type": "markdown",
      "source": [
        "The data can effectively predict unseen data, so we assume that the model doesn't have a data leakage problem."
      ],
      "metadata": {
        "id": "fa0d7FcRMSUC"
      }
    },
    {
      "cell_type": "markdown",
      "source": [
        "# Feature Selection 2\n",
        "Using 'Quantity Sold (liters/kg)' and 'Price per Unit'"
      ],
      "metadata": {
        "id": "XiPiE-nD3SnN"
      }
    },
    {
      "cell_type": "markdown",
      "source": [
        "Based on domain knowledge\n",
        "we use two features of 'Quantity Sold (liters/kg)' and 'Price per Unit' since it is a widely accepted fact that quantity can invariably impact the pricing. For instance, in certain scenarios, when we make substantial purchases, sellers tend to lower the price."
      ],
      "metadata": {
        "id": "mSaxZMmXYbTF"
      }
    },
    {
      "cell_type": "code",
      "source": [
        "X = df_new2[['Quantity Sold (liters/kg)', 'Price per Unit']]\n",
        "y = df_new2['Price per Unit (sold)']\n",
        "\n",
        "# Split the data into training and testing sets\n",
        "X_train, X_test, y_train, y_test = train_test_split(X, y, test_size=0.2, random_state=42)"
      ],
      "metadata": {
        "id": "43KFYtkpif5x"
      },
      "execution_count": null,
      "outputs": []
    },
    {
      "cell_type": "code",
      "source": [
        "# Create a Linear Regression object\n",
        "model = LinearRegression()\n",
        "\n",
        "# Fit the model to the training data\n",
        "model.fit(X_train, y_train)"
      ],
      "metadata": {
        "colab": {
          "base_uri": "https://localhost:8080/"
        },
        "id": "3HDlg4E2qNrm",
        "outputId": "8887884a-0ef8-497f-e87a-e35c77e368f2"
      },
      "execution_count": null,
      "outputs": [
        {
          "output_type": "execute_result",
          "data": {
            "text/plain": [
              "LinearRegression()"
            ],
            "text/html": [
              "<style>#sk-container-id-10 {color: black;background-color: white;}#sk-container-id-10 pre{padding: 0;}#sk-container-id-10 div.sk-toggleable {background-color: white;}#sk-container-id-10 label.sk-toggleable__label {cursor: pointer;display: block;width: 100%;margin-bottom: 0;padding: 0.3em;box-sizing: border-box;text-align: center;}#sk-container-id-10 label.sk-toggleable__label-arrow:before {content: \"▸\";float: left;margin-right: 0.25em;color: #696969;}#sk-container-id-10 label.sk-toggleable__label-arrow:hover:before {color: black;}#sk-container-id-10 div.sk-estimator:hover label.sk-toggleable__label-arrow:before {color: black;}#sk-container-id-10 div.sk-toggleable__content {max-height: 0;max-width: 0;overflow: hidden;text-align: left;background-color: #f0f8ff;}#sk-container-id-10 div.sk-toggleable__content pre {margin: 0.2em;color: black;border-radius: 0.25em;background-color: #f0f8ff;}#sk-container-id-10 input.sk-toggleable__control:checked~div.sk-toggleable__content {max-height: 200px;max-width: 100%;overflow: auto;}#sk-container-id-10 input.sk-toggleable__control:checked~label.sk-toggleable__label-arrow:before {content: \"▾\";}#sk-container-id-10 div.sk-estimator input.sk-toggleable__control:checked~label.sk-toggleable__label {background-color: #d4ebff;}#sk-container-id-10 div.sk-label input.sk-toggleable__control:checked~label.sk-toggleable__label {background-color: #d4ebff;}#sk-container-id-10 input.sk-hidden--visually {border: 0;clip: rect(1px 1px 1px 1px);clip: rect(1px, 1px, 1px, 1px);height: 1px;margin: -1px;overflow: hidden;padding: 0;position: absolute;width: 1px;}#sk-container-id-10 div.sk-estimator {font-family: monospace;background-color: #f0f8ff;border: 1px dotted black;border-radius: 0.25em;box-sizing: border-box;margin-bottom: 0.5em;}#sk-container-id-10 div.sk-estimator:hover {background-color: #d4ebff;}#sk-container-id-10 div.sk-parallel-item::after {content: \"\";width: 100%;border-bottom: 1px solid gray;flex-grow: 1;}#sk-container-id-10 div.sk-label:hover label.sk-toggleable__label {background-color: #d4ebff;}#sk-container-id-10 div.sk-serial::before {content: \"\";position: absolute;border-left: 1px solid gray;box-sizing: border-box;top: 0;bottom: 0;left: 50%;z-index: 0;}#sk-container-id-10 div.sk-serial {display: flex;flex-direction: column;align-items: center;background-color: white;padding-right: 0.2em;padding-left: 0.2em;position: relative;}#sk-container-id-10 div.sk-item {position: relative;z-index: 1;}#sk-container-id-10 div.sk-parallel {display: flex;align-items: stretch;justify-content: center;background-color: white;position: relative;}#sk-container-id-10 div.sk-item::before, #sk-container-id-10 div.sk-parallel-item::before {content: \"\";position: absolute;border-left: 1px solid gray;box-sizing: border-box;top: 0;bottom: 0;left: 50%;z-index: -1;}#sk-container-id-10 div.sk-parallel-item {display: flex;flex-direction: column;z-index: 1;position: relative;background-color: white;}#sk-container-id-10 div.sk-parallel-item:first-child::after {align-self: flex-end;width: 50%;}#sk-container-id-10 div.sk-parallel-item:last-child::after {align-self: flex-start;width: 50%;}#sk-container-id-10 div.sk-parallel-item:only-child::after {width: 0;}#sk-container-id-10 div.sk-dashed-wrapped {border: 1px dashed gray;margin: 0 0.4em 0.5em 0.4em;box-sizing: border-box;padding-bottom: 0.4em;background-color: white;}#sk-container-id-10 div.sk-label label {font-family: monospace;font-weight: bold;display: inline-block;line-height: 1.2em;}#sk-container-id-10 div.sk-label-container {text-align: center;}#sk-container-id-10 div.sk-container {/* jupyter's `normalize.less` sets `[hidden] { display: none; }` but bootstrap.min.css set `[hidden] { display: none !important; }` so we also need the `!important` here to be able to override the default hidden behavior on the sphinx rendered scikit-learn.org. See: https://github.com/scikit-learn/scikit-learn/issues/21755 */display: inline-block !important;position: relative;}#sk-container-id-10 div.sk-text-repr-fallback {display: none;}</style><div id=\"sk-container-id-10\" class=\"sk-top-container\"><div class=\"sk-text-repr-fallback\"><pre>LinearRegression()</pre><b>In a Jupyter environment, please rerun this cell to show the HTML representation or trust the notebook. <br />On GitHub, the HTML representation is unable to render, please try loading this page with nbviewer.org.</b></div><div class=\"sk-container\" hidden><div class=\"sk-item\"><div class=\"sk-estimator sk-toggleable\"><input class=\"sk-toggleable__control sk-hidden--visually\" id=\"sk-estimator-id-10\" type=\"checkbox\" checked><label for=\"sk-estimator-id-10\" class=\"sk-toggleable__label sk-toggleable__label-arrow\">LinearRegression</label><div class=\"sk-toggleable__content\"><pre>LinearRegression()</pre></div></div></div></div></div>"
            ]
          },
          "metadata": {},
          "execution_count": 222
        }
      ]
    },
    {
      "cell_type": "code",
      "source": [
        "from sklearn import metrics\n",
        "\n",
        "# Make predictions on the test set\n",
        "y_pred = model.predict(X_test)\n",
        "\n",
        "# Calculate metrics\n",
        "mae = metrics.mean_absolute_error(y_test, y_pred)\n",
        "mse = metrics.mean_squared_error(y_test, y_pred)\n",
        "rmse = np.sqrt(mse) # or mse**(0.5)\n",
        "r2f = metrics.r2_score(y_test, y_pred)\n",
        "\n",
        "print('Mean Absolute Error (MAE):', mae)\n",
        "print('Mean Squared Error (MSE):', mse)\n",
        "print('Root Mean Squared Error (RMSE):', rmse)\n",
        "print('R-squared (R²) score:', r2f)\n",
        "print('R-squared (R²) score LM with one var:', r2)"
      ],
      "metadata": {
        "colab": {
          "base_uri": "https://localhost:8080/"
        },
        "id": "4TgUlZrpr5Pb",
        "outputId": "b854952a-c345-4af7-be46-1f6a15744d70"
      },
      "execution_count": null,
      "outputs": [
        {
          "output_type": "stream",
          "name": "stdout",
          "text": [
            "Mean Absolute Error (MAE): 2.491813295376726\n",
            "Mean Squared Error (MSE): 8.297658705712344\n",
            "Root Mean Squared Error (RMSE): 2.8805656919626643\n",
            "R-squared (R²) score: 0.9874322502266084\n",
            "R-squared (R²) score LM with one var: 0.9873962109029003\n"
          ]
        }
      ]
    },
    {
      "cell_type": "code",
      "source": [
        "print(r2f > r2)"
      ],
      "metadata": {
        "colab": {
          "base_uri": "https://localhost:8080/"
        },
        "id": "mu8NT930HQFr",
        "outputId": "be5aa2f0-6bec-4e22-dea5-05db1e9aca03"
      },
      "execution_count": null,
      "outputs": [
        {
          "output_type": "stream",
          "name": "stdout",
          "text": [
            "True\n"
          ]
        }
      ]
    },
    {
      "cell_type": "markdown",
      "source": [
        "model with two var perform better"
      ],
      "metadata": {
        "id": "M-eiHX7ZZ4iC"
      }
    },
    {
      "cell_type": "markdown",
      "source": [
        "The Multiple linear regression equation:\n",
        "\n",
        "[ y = b_0 + b_1 (X_1) + b_2  (X_2) ]\n",
        "\n",
        "- \\(b_0\\) represents the intercept term.\n",
        "- \\(b_1\\) is the coefficient for the first predictor variable, \\(X_1\\).\n",
        "- \\(b_2\\) is the coefficient for the second predictor variable, \\(X_2\\).\n",
        "\n",
        "These coefficients (\\(b_0\\), \\(b_1\\, and \\(b_2\\)) are the parameters that your multiple linear regression model has estimated from your training data. They represent the relationship between your target variable (\\(y\\)) and the predictor variables (\\(X_1\\) and \\(X_2\\))."
      ],
      "metadata": {
        "id": "7Nu-poDf93RW"
      }
    },
    {
      "cell_type": "code",
      "source": [
        "# Get the intercept and coefficients\n",
        "intercept = model.intercept_\n",
        "coefficients = model.coef_\n",
        "\n",
        "# Get the feature names from your DataFrame\n",
        "feature_names = X.columns\n",
        "\n",
        "# Print the multiple linear regression equation\n",
        "equation = f\"Regression Equation:\\n y = {intercept:} \"\n",
        "for i in range(len(coefficients)):\n",
        "    equation += f\"+ {coefficients[i]:} * {feature_names[i]} \"\n",
        "\n",
        "# Print the equation\n",
        "print(equation)\n"
      ],
      "metadata": {
        "colab": {
          "base_uri": "https://localhost:8080/"
        },
        "id": "8VS6B8sv8-9q",
        "outputId": "4f301900-7da0-4557-9f6f-7416437b657e"
      },
      "execution_count": null,
      "outputs": [
        {
          "output_type": "stream",
          "name": "stdout",
          "text": [
            "Regression Equation:\n",
            " y = 0.3281476897473041 + -0.0005433502123671391 * Quantity Sold (liters/kg) + 0.9970687366676831 * Price per Unit \n"
          ]
        }
      ]
    },
    {
      "cell_type": "markdown",
      "source": [
        "# Evaluation using visualization"
      ],
      "metadata": {
        "id": "jlT-eSjxaiqN"
      }
    },
    {
      "cell_type": "code",
      "source": [
        "import matplotlib.pyplot as plt\n",
        "\n",
        "plt.figure(figsize=(10, 6))\n",
        "plt.scatter(y_test, y_pred, alpha=0.5)\n",
        "plt.xlabel(\"Actual\")\n",
        "plt.ylabel(\"Predicted\")\n",
        "plt.title(\"Regression Graph\")\n",
        "\n",
        "plt.plot(y_test, y_test, 'r')\n",
        "\n",
        "plt.show()"
      ],
      "metadata": {
        "colab": {
          "base_uri": "https://localhost:8080/",
          "height": 564
        },
        "id": "2OlH38yIsxr0",
        "outputId": "e04c9d9b-5520-4c63-ab13-75d27fc91383"
      },
      "execution_count": null,
      "outputs": [
        {
          "output_type": "display_data",
          "data": {
            "text/plain": [
              "<Figure size 1000x600 with 1 Axes>"
            ],
            "image/png": "[encoded data removed]"
          },
          "metadata": {}
        }
      ]
    },
    {
      "cell_type": "code",
      "source": [
        "df_res = pd.DataFrame({'y_test': sorted(y_test), 'y_predicted': sorted(y_pred)})"
      ],
      "metadata": {
        "id": "yd3TrWo6us5j"
      },
      "execution_count": null,
      "outputs": []
    },
    {
      "cell_type": "code",
      "source": [
        "df_res.index = range(1, len(df_res) + 1)\n",
        "print(df_res.head(10))"
      ],
      "metadata": {
        "colab": {
          "base_uri": "https://localhost:8080/"
        },
        "id": "5wyVDYUwwwsI",
        "outputId": "ad0fd8ef-c5c6-4066-bc56-6859cba4545e"
      },
      "execution_count": null,
      "outputs": [
        {
          "output_type": "stream",
          "name": "stdout",
          "text": [
            "    y_test  y_predicted\n",
            "1     7.26    10.363470\n",
            "2     9.71    10.990319\n",
            "3    11.47    10.991089\n",
            "4    11.66    11.483419\n",
            "5    12.05    12.139014\n",
            "6    12.24    12.668246\n",
            "7    12.38    12.998258\n",
            "8    12.64    14.585144\n",
            "9    13.38    14.993435\n",
            "10   14.24    15.107070\n"
          ]
        }
      ]
    },
    {
      "cell_type": "code",
      "source": [
        "plt.plot(df_res['y_test'], label='Actual')\n",
        "plt.plot(df_res['y_predicted'], label='Predicted')\n",
        "plt.legend()\n",
        "plt.title(\"Actual vs Predicted\")\n",
        "plt.show()"
      ],
      "metadata": {
        "colab": {
          "base_uri": "https://localhost:8080/",
          "height": 452
        },
        "id": "EJMKrm3Ty5sF",
        "outputId": "6f14cf9b-dc85-47a6-9a07-c0bfd1337f68"
      },
      "execution_count": null,
      "outputs": [
        {
          "output_type": "display_data",
          "data": {
            "text/plain": [
              "<Figure size 640x480 with 1 Axes>"
            ],
            "image/png": "[encoded data removed]"
          },
          "metadata": {}
        }
      ]
    },
    {
      "cell_type": "markdown",
      "source": [
        "It can be seen that the similarity between the predicted results and the actual values indicates that the model performs well when evaluated using the test dataset."
      ],
      "metadata": {
        "id": "M_nFQyFNye46"
      }
    },
    {
      "cell_type": "markdown",
      "source": [
        "# Summary & Conclusion"
      ],
      "metadata": {
        "id": "swIXreRg-_Yt"
      }
    },
    {
      "cell_type": "markdown",
      "source": [
        "Here's a summary from this project:\n",
        "\n",
        "- Objective: The primary goal of the project was price optimization where we're trying to predict the ‘Price per Unit (sold), which required the use of data analysis to understand how customers respond to different prices for the product.\n",
        "\n",
        "- Algorithm Selection: after evaluating four regression algorithms (Linear Regression, Decision Tree, KNN, and Neural Network Regression), it was found that Linear Regression was the most effective choice for our problem. This is likely due to the presence of a strong linear relationship between the input features and the target variable.\n",
        "\n",
        "- Feature Selection: A variety of input features were tested, with 'Quantity Sold (liters/kg)' and 'Price per Unit' identified as the most influential factors for predicting 'Price per Unit (sold).' This suggests that these two variables have a significant impact on the brand's price.\n",
        "\n",
        "- Model Performance: The Linear Regression model, trained on 'Quantity Sold (liters/kg)' and 'Price per Unit,' delivered the best predictive performance for optimizing prices based on the provided features. This model offers a straightforward and interpretable solution for the task.\n",
        "\n",
        "**Conclusion!!!**:\n",
        "\n",
        "Our project has yielded valuable insights into predicting product prices using machine learning approaches. By leveraging the Linear Regression model with the selected features, we can make data-driven pricing decisions. This approach helps brands identify optimal price points by considering historical data, which can lead to revenue and profit maximization.\n"
      ],
      "metadata": {
        "id": "0MzjFoJ9_B8h"
      }
    }
  ]
}